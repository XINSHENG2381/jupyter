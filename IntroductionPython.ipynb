{
 "cells": [
  {
   "cell_type": "markdown",
   "id": "f0a3f136",
   "metadata": {},
   "source": [
    "# Introduction to Python\n",
    "\n",
    "In this notebook  will discuss the basis of **programing with python**.\n",
    "\n",
    "If you want a more in-depth tutorial, check out the [offical python tutorial](https://docs.python.org/3/tutorial/).\n",
    "\n",
    "There is excellent, **extensive** documentation in [python documentation](https://docs.python.org/3/).\n",
    "\n",
    "For specific questions use [Google](https://www.google.com/) or, more specifically [stackoverflow](https://stackoverflow.com/).\n"
   ]
  },
  {
   "cell_type": "markdown",
   "id": "9ff1c1f0",
   "metadata": {
    "ExecuteTime": {
     "end_time": "2021-09-01T09:49:49.191674Z",
     "start_time": "2021-09-01T09:49:49.181250Z"
    }
   },
   "source": [
    "## Preliminaries"
   ]
  },
  {
   "cell_type": "markdown",
   "id": "40156e1a",
   "metadata": {
    "ExecuteTime": {
     "end_time": "2021-09-01T09:49:55.539925Z",
     "start_time": "2021-09-01T09:49:55.531527Z"
    }
   },
   "source": [
    "### E4500 Directory Organization"
   ]
  },
  {
   "cell_type": "markdown",
   "id": "13f96be5",
   "metadata": {
    "ExecuteTime": {
     "end_time": "2021-09-01T09:50:02.612385Z",
     "start_time": "2021-09-01T09:50:02.591927Z"
    }
   },
   "source": [
    "We will always assume a relative organization like this\n",
    "\n",
    "* **root**\n",
    "    * **lectures** (lecture notes and jupyter notebooks)\n",
    "        * lecture1\n",
    "        * lecture2\n",
    "        * ...\n",
    "    * **E4500_DS** ( python modules reused during the course)\n",
    "        * module1.py\n",
    "        * module2.py\n",
    "        * ...\n",
    "    * **raw** (raw unmodified data we will use during course)\n",
    "        * dataset1 (directory for dataset1)\n",
    "        * dataset2\n",
    "        * ...\n",
    "    * **data** (pre-processed data we have computed or modified ourselves )\n",
    "        * project1\n",
    "        * project2\n",
    "        * ...\n",
    "    * **projects** (stand along python scripts)\n",
    "        * project1/script1.py\n",
    "        * project2/script2.py\n",
    "        \n",
    "If you save notebooks, data, etc this way, all examples from this course should work out of the box"
   ]
  },
  {
   "cell_type": "code",
   "execution_count": 1,
   "id": "22004236",
   "metadata": {
    "ExecuteTime": {
     "end_time": "2021-09-10T08:26:38.484091Z",
     "start_time": "2021-09-10T08:26:38.471583Z"
    }
   },
   "outputs": [
    {
     "data": {
      "text/plain": [
       "'/home/manel/E4500DS/lectures/01_Introduction'"
      ]
     },
     "execution_count": 1,
     "metadata": {},
     "output_type": "execute_result"
    }
   ],
   "source": [
    "%pwd"
   ]
  },
  {
   "cell_type": "markdown",
   "id": "4bafb74b",
   "metadata": {
    "ExecuteTime": {
     "end_time": "2021-09-01T09:51:22.104117Z",
     "start_time": "2021-09-01T09:51:22.088721Z"
    }
   },
   "source": [
    "My **root** directory is called `E4500DS` and now we are working on `lectures/01_Introduction`"
   ]
  },
  {
   "cell_type": "code",
   "execution_count": 2,
   "id": "7c492f25",
   "metadata": {
    "ExecuteTime": {
     "end_time": "2021-09-10T08:26:39.674745Z",
     "start_time": "2021-09-10T08:26:39.548467Z"
    }
   },
   "outputs": [
    {
     "name": "stdout",
     "output_type": "stream",
     "text": [
      "\u001b[0m\u001b[01;34mbuild\u001b[0m/   Introduction_DataScience.tex  ReadingFiles.ipynb  \u001b[01;34mtables\u001b[0m/\r\n",
      "\u001b[01;34mimages\u001b[0m/  IntroductionPython.ipynb      read_options.py\r\n"
     ]
    }
   ],
   "source": [
    "%ls"
   ]
  },
  {
   "cell_type": "markdown",
   "id": "07016cab",
   "metadata": {},
   "source": [
    "Other class materials for this class are saved there."
   ]
  },
  {
   "cell_type": "markdown",
   "id": "7b19009b",
   "metadata": {},
   "source": [
    "## Python expressions\n",
    "\n",
    "An expression computes a value\n",
    "\n",
    "The following expression is just the value `5`"
   ]
  },
  {
   "cell_type": "code",
   "execution_count": 3,
   "id": "1c38791e",
   "metadata": {
    "ExecuteTime": {
     "end_time": "2021-09-10T08:26:40.800357Z",
     "start_time": "2021-09-10T08:26:40.789322Z"
    }
   },
   "outputs": [
    {
     "data": {
      "text/plain": [
       "5"
      ]
     },
     "execution_count": 3,
     "metadata": {},
     "output_type": "execute_result"
    }
   ],
   "source": [
    "5"
   ]
  },
  {
   "cell_type": "markdown",
   "id": "431f8ec2",
   "metadata": {},
   "source": [
    "And here we compute $1+1$"
   ]
  },
  {
   "cell_type": "code",
   "execution_count": 4,
   "id": "dc73a55f",
   "metadata": {
    "ExecuteTime": {
     "end_time": "2021-09-10T08:26:41.572164Z",
     "start_time": "2021-09-10T08:26:41.560461Z"
    }
   },
   "outputs": [
    {
     "data": {
      "text/plain": [
       "2"
      ]
     },
     "execution_count": 4,
     "metadata": {},
     "output_type": "execute_result"
    }
   ],
   "source": [
    "1+1"
   ]
  },
  {
   "cell_type": "markdown",
   "id": "ae51f0d3",
   "metadata": {
    "ExecuteTime": {
     "end_time": "2021-08-30T08:58:54.127872Z",
     "start_time": "2021-08-30T08:58:54.121490Z"
    }
   },
   "source": [
    "We can have more complicated expressions:"
   ]
  },
  {
   "cell_type": "code",
   "execution_count": 5,
   "id": "692cbe99",
   "metadata": {
    "ExecuteTime": {
     "end_time": "2021-09-10T08:26:42.308532Z",
     "start_time": "2021-09-10T08:26:42.297187Z"
    }
   },
   "outputs": [
    {
     "data": {
      "text/plain": [
       "-2.0"
      ]
     },
     "execution_count": 5,
     "metadata": {},
     "output_type": "execute_result"
    }
   ],
   "source": [
    "5*(1-3)+ 24/3"
   ]
  },
  {
   "cell_type": "markdown",
   "id": "618039fe",
   "metadata": {
    "ExecuteTime": {
     "end_time": "2021-08-30T09:07:39.471930Z",
     "start_time": "2021-08-30T09:07:39.464427Z"
    }
   },
   "source": [
    "We use **boolean expressions** to test for conditions"
   ]
  },
  {
   "cell_type": "code",
   "execution_count": 6,
   "id": "b41f43a3",
   "metadata": {
    "ExecuteTime": {
     "end_time": "2021-09-10T08:26:42.969210Z",
     "start_time": "2021-09-10T08:26:42.959992Z"
    }
   },
   "outputs": [
    {
     "data": {
      "text/plain": [
       "False"
      ]
     },
     "execution_count": 6,
     "metadata": {},
     "output_type": "execute_result"
    }
   ],
   "source": [
    "0 < 5*(1-3)+ 24/3"
   ]
  },
  {
   "cell_type": "markdown",
   "id": "3f1dba0b",
   "metadata": {
    "ExecuteTime": {
     "end_time": "2021-08-30T19:38:54.556107Z",
     "start_time": "2021-08-30T19:38:54.550652Z"
    }
   },
   "source": [
    "Which is the same as "
   ]
  },
  {
   "cell_type": "code",
   "execution_count": 7,
   "id": "4a831c53",
   "metadata": {
    "ExecuteTime": {
     "end_time": "2021-09-10T08:26:43.721110Z",
     "start_time": "2021-09-10T08:26:43.710786Z"
    }
   },
   "outputs": [
    {
     "data": {
      "text/plain": [
       "False"
      ]
     },
     "execution_count": 7,
     "metadata": {},
     "output_type": "execute_result"
    }
   ],
   "source": [
    "0 < -2"
   ]
  },
  {
   "cell_type": "markdown",
   "id": "d9b2839f",
   "metadata": {},
   "source": [
    "The rules of [operator precedence](https://docs.python.org/3/reference/expressions.html#operator-precedence) are well documented on [python's manual](https://docs.python.org/3/).\n",
    "\n",
    "\n",
    "But, as an easy to remember rule; when in doubt about the order of evaluation **use parenthesis**:"
   ]
  },
  {
   "cell_type": "code",
   "execution_count": 8,
   "id": "33252268",
   "metadata": {
    "ExecuteTime": {
     "end_time": "2021-09-10T08:26:44.977060Z",
     "start_time": "2021-09-10T08:26:44.972733Z"
    }
   },
   "outputs": [
    {
     "data": {
      "text/plain": [
       "False"
      ]
     },
     "execution_count": 8,
     "metadata": {},
     "output_type": "execute_result"
    }
   ],
   "source": [
    "0 < ( 5*(1-3)+ 24/3 )"
   ]
  },
  {
   "cell_type": "markdown",
   "id": "a3cb1195",
   "metadata": {
    "ExecuteTime": {
     "end_time": "2021-08-30T09:00:49.443908Z",
     "start_time": "2021-08-30T09:00:49.431683Z"
    }
   },
   "source": [
    "## Variables\n",
    "\n",
    "We can have **names** to values. A named value is called a **variable**"
   ]
  },
  {
   "cell_type": "code",
   "execution_count": 9,
   "id": "9a0c623b",
   "metadata": {
    "ExecuteTime": {
     "end_time": "2021-09-10T08:26:46.159537Z",
     "start_time": "2021-09-10T08:26:46.152988Z"
    }
   },
   "outputs": [],
   "source": [
    "x=2"
   ]
  },
  {
   "cell_type": "markdown",
   "id": "f47bbe4d",
   "metadata": {
    "ExecuteTime": {
     "end_time": "2021-08-30T09:04:01.183279Z",
     "start_time": "2021-08-30T09:04:01.171632Z"
    }
   },
   "source": [
    "variables have a **value**"
   ]
  },
  {
   "cell_type": "code",
   "execution_count": 10,
   "id": "05c2231c",
   "metadata": {
    "ExecuteTime": {
     "end_time": "2021-09-10T08:26:46.824995Z",
     "start_time": "2021-09-10T08:26:46.819018Z"
    }
   },
   "outputs": [
    {
     "data": {
      "text/plain": [
       "2"
      ]
     },
     "execution_count": 10,
     "metadata": {},
     "output_type": "execute_result"
    }
   ],
   "source": [
    "x"
   ]
  },
  {
   "cell_type": "markdown",
   "id": "fc523aea",
   "metadata": {},
   "source": [
    "and a **type**"
   ]
  },
  {
   "cell_type": "code",
   "execution_count": 11,
   "id": "dfb42507",
   "metadata": {
    "ExecuteTime": {
     "end_time": "2021-09-10T08:26:47.497026Z",
     "start_time": "2021-09-10T08:26:47.487568Z"
    }
   },
   "outputs": [
    {
     "data": {
      "text/plain": [
       "int"
      ]
     },
     "execution_count": 11,
     "metadata": {},
     "output_type": "execute_result"
    }
   ],
   "source": [
    "type(x)"
   ]
  },
  {
   "cell_type": "markdown",
   "id": "eaf268e3",
   "metadata": {},
   "source": [
    "There are many different types, we will review the most common ones later.\n",
    "\n",
    "We can use values in **expressions**:"
   ]
  },
  {
   "cell_type": "code",
   "execution_count": 12,
   "id": "6cc36cef",
   "metadata": {
    "ExecuteTime": {
     "end_time": "2021-09-10T08:26:48.598198Z",
     "start_time": "2021-09-10T08:26:48.589179Z"
    }
   },
   "outputs": [
    {
     "data": {
      "text/plain": [
       "4"
      ]
     },
     "execution_count": 12,
     "metadata": {},
     "output_type": "execute_result"
    }
   ],
   "source": [
    "x+2"
   ]
  },
  {
   "cell_type": "markdown",
   "id": "694be5d3",
   "metadata": {},
   "source": [
    "You can re-assign a new value to a variable and the old one is *forgotten*"
   ]
  },
  {
   "cell_type": "code",
   "execution_count": 13,
   "id": "c01c3026",
   "metadata": {
    "ExecuteTime": {
     "end_time": "2021-09-10T08:26:59.370153Z",
     "start_time": "2021-09-10T08:26:59.359734Z"
    }
   },
   "outputs": [
    {
     "data": {
      "text/plain": [
       "5.0"
      ]
     },
     "execution_count": 13,
     "metadata": {},
     "output_type": "execute_result"
    }
   ],
   "source": [
    "x=5.0\n",
    "x"
   ]
  },
  {
   "cell_type": "code",
   "execution_count": 14,
   "id": "8f40cf23",
   "metadata": {
    "ExecuteTime": {
     "end_time": "2021-09-10T08:27:03.469924Z",
     "start_time": "2021-09-10T08:27:03.461795Z"
    }
   },
   "outputs": [
    {
     "data": {
      "text/plain": [
       "float"
      ]
     },
     "execution_count": 14,
     "metadata": {},
     "output_type": "execute_result"
    }
   ],
   "source": [
    "type(x)"
   ]
  },
  {
   "cell_type": "markdown",
   "id": "577f20af",
   "metadata": {
    "ExecuteTime": {
     "end_time": "2021-08-30T09:16:26.858666Z",
     "start_time": "2021-08-30T09:16:26.843527Z"
    }
   },
   "source": [
    "In python only values (but not variables) have types."
   ]
  },
  {
   "cell_type": "markdown",
   "id": "e78ef816",
   "metadata": {},
   "source": [
    "We can assing the results of expressions to new variables"
   ]
  },
  {
   "cell_type": "code",
   "execution_count": 15,
   "id": "2e196a55",
   "metadata": {
    "ExecuteTime": {
     "end_time": "2021-09-10T08:28:47.852165Z",
     "start_time": "2021-09-10T08:28:47.848781Z"
    }
   },
   "outputs": [
    {
     "data": {
      "text/plain": [
       "7.0"
      ]
     },
     "execution_count": 15,
     "metadata": {},
     "output_type": "execute_result"
    }
   ],
   "source": [
    "y=x+2\n",
    "y"
   ]
  },
  {
   "cell_type": "code",
   "execution_count": 16,
   "id": "55af6fe4",
   "metadata": {
    "ExecuteTime": {
     "end_time": "2021-09-10T08:28:51.313591Z",
     "start_time": "2021-09-10T08:28:51.303038Z"
    }
   },
   "outputs": [
    {
     "data": {
      "text/plain": [
       "19.0"
      ]
     },
     "execution_count": 16,
     "metadata": {},
     "output_type": "execute_result"
    }
   ],
   "source": [
    "2*y+x"
   ]
  },
  {
   "cell_type": "code",
   "execution_count": 17,
   "id": "a0c55532",
   "metadata": {
    "ExecuteTime": {
     "end_time": "2021-09-10T08:28:53.691356Z",
     "start_time": "2021-09-10T08:28:53.681331Z"
    }
   },
   "outputs": [
    {
     "data": {
      "text/plain": [
       "True"
      ]
     },
     "execution_count": 17,
     "metadata": {},
     "output_type": "execute_result"
    }
   ],
   "source": [
    "y>x"
   ]
  },
  {
   "cell_type": "markdown",
   "id": "bb3ea601",
   "metadata": {},
   "source": [
    "## Python scalar types\n",
    "\n",
    "There are many kinds of types in python. Scalar types contain just one value.\n",
    "\n",
    "The most commonly used  ones are:"
   ]
  },
  {
   "cell_type": "markdown",
   "id": "4aeb810a",
   "metadata": {},
   "source": [
    "### Integers"
   ]
  },
  {
   "cell_type": "code",
   "execution_count": 18,
   "id": "60931f6a",
   "metadata": {
    "ExecuteTime": {
     "end_time": "2021-09-10T08:30:49.773017Z",
     "start_time": "2021-09-10T08:30:49.763155Z"
    }
   },
   "outputs": [
    {
     "data": {
      "text/plain": [
       "2"
      ]
     },
     "execution_count": 18,
     "metadata": {},
     "output_type": "execute_result"
    }
   ],
   "source": [
    "2"
   ]
  },
  {
   "cell_type": "code",
   "execution_count": 19,
   "id": "d6d02fa4",
   "metadata": {
    "ExecuteTime": {
     "end_time": "2021-09-10T08:30:53.661914Z",
     "start_time": "2021-09-10T08:30:53.657295Z"
    }
   },
   "outputs": [
    {
     "data": {
      "text/plain": [
       "int"
      ]
     },
     "execution_count": 19,
     "metadata": {},
     "output_type": "execute_result"
    }
   ],
   "source": [
    "type(2)"
   ]
  },
  {
   "cell_type": "markdown",
   "id": "f916158f",
   "metadata": {},
   "source": [
    "#### Arithmetic Operators"
   ]
  },
  {
   "cell_type": "markdown",
   "id": "99446db7",
   "metadata": {},
   "source": [
    "Integer support addition, substraction and multiplication"
   ]
  },
  {
   "cell_type": "code",
   "execution_count": 20,
   "id": "8d604821",
   "metadata": {
    "ExecuteTime": {
     "end_time": "2021-09-10T08:31:08.708845Z",
     "start_time": "2021-09-10T08:31:08.704840Z"
    }
   },
   "outputs": [
    {
     "data": {
      "text/plain": [
       "(6, -2, 8)"
      ]
     },
     "execution_count": 20,
     "metadata": {},
     "output_type": "execute_result"
    }
   ],
   "source": [
    "2+4,2-4,2*4"
   ]
  },
  {
   "cell_type": "markdown",
   "id": "40a65171",
   "metadata": {
    "ExecuteTime": {
     "end_time": "2021-08-30T09:27:24.605670Z",
     "start_time": "2021-08-30T09:27:24.591554Z"
    }
   },
   "source": [
    "There are **two division operators for integer**:\n",
    "1. Floor division: returns an integer result\n",
    "2. True division: returns a fractional (float) result"
   ]
  },
  {
   "cell_type": "code",
   "execution_count": 21,
   "id": "4f08c99b",
   "metadata": {
    "ExecuteTime": {
     "end_time": "2021-09-10T08:31:37.732330Z",
     "start_time": "2021-09-10T08:31:37.724671Z"
    }
   },
   "outputs": [
    {
     "data": {
      "text/plain": [
       "2"
      ]
     },
     "execution_count": 21,
     "metadata": {},
     "output_type": "execute_result"
    }
   ],
   "source": [
    "7//3 # Floor division"
   ]
  },
  {
   "cell_type": "code",
   "execution_count": 22,
   "id": "bb943358",
   "metadata": {
    "ExecuteTime": {
     "end_time": "2021-09-10T08:31:38.905567Z",
     "start_time": "2021-09-10T08:31:38.902249Z"
    }
   },
   "outputs": [
    {
     "data": {
      "text/plain": [
       "2.3333333333333335"
      ]
     },
     "execution_count": 22,
     "metadata": {},
     "output_type": "execute_result"
    }
   ],
   "source": [
    "7/3 # true division"
   ]
  },
  {
   "cell_type": "markdown",
   "id": "f42b8098",
   "metadata": {},
   "source": [
    "The reminder of division is the **mod** operator"
   ]
  },
  {
   "cell_type": "code",
   "execution_count": 23,
   "id": "70d8acdb",
   "metadata": {
    "ExecuteTime": {
     "end_time": "2021-09-10T08:32:00.949659Z",
     "start_time": "2021-09-10T08:32:00.940712Z"
    }
   },
   "outputs": [
    {
     "data": {
      "text/plain": [
       "1"
      ]
     },
     "execution_count": 23,
     "metadata": {},
     "output_type": "execute_result"
    }
   ],
   "source": [
    "7 % 3"
   ]
  },
  {
   "cell_type": "markdown",
   "id": "feda7bc2",
   "metadata": {},
   "source": [
    "Exponentiation is also supported with the `**` operator"
   ]
  },
  {
   "cell_type": "code",
   "execution_count": 24,
   "id": "b0a0974c",
   "metadata": {
    "ExecuteTime": {
     "end_time": "2021-09-10T08:32:12.116949Z",
     "start_time": "2021-09-10T08:32:12.113628Z"
    }
   },
   "outputs": [
    {
     "data": {
      "text/plain": [
       "16"
      ]
     },
     "execution_count": 24,
     "metadata": {},
     "output_type": "execute_result"
    }
   ],
   "source": [
    "2**4"
   ]
  },
  {
   "cell_type": "markdown",
   "id": "0a13d414",
   "metadata": {},
   "source": [
    "#### Mutating arithmetic operators\n",
    "\n",
    "A common pattern is to increase (decrease, scale) a number by another, this is supported by the operators `+=`,`-=`, `*=`,`/=`,`//=`,`**=`.\n",
    "\n",
    "The compute an operation (+,-,*,/,**) between two numbers and save the result on the left hand side."
   ]
  },
  {
   "cell_type": "code",
   "execution_count": 25,
   "id": "1aafce86",
   "metadata": {
    "ExecuteTime": {
     "end_time": "2021-09-10T08:32:38.562185Z",
     "start_time": "2021-09-10T08:32:38.554640Z"
    }
   },
   "outputs": [],
   "source": [
    "x=8"
   ]
  },
  {
   "cell_type": "code",
   "execution_count": 26,
   "id": "b29f82ac",
   "metadata": {
    "ExecuteTime": {
     "end_time": "2021-09-10T08:33:01.652336Z",
     "start_time": "2021-09-10T08:33:01.648370Z"
    }
   },
   "outputs": [
    {
     "data": {
      "text/plain": [
       "9"
      ]
     },
     "execution_count": 26,
     "metadata": {},
     "output_type": "execute_result"
    }
   ],
   "source": [
    "x+=1 # x = x +1\n",
    "x"
   ]
  },
  {
   "cell_type": "code",
   "execution_count": 27,
   "id": "5ded22e3",
   "metadata": {
    "ExecuteTime": {
     "end_time": "2021-09-10T08:33:09.182351Z",
     "start_time": "2021-09-10T08:33:09.179134Z"
    }
   },
   "outputs": [
    {
     "data": {
      "text/plain": [
       "18"
      ]
     },
     "execution_count": 27,
     "metadata": {},
     "output_type": "execute_result"
    }
   ],
   "source": [
    "x*=2 # x = x * 2\n",
    "x"
   ]
  },
  {
   "cell_type": "code",
   "execution_count": 28,
   "id": "c7b15fdf",
   "metadata": {
    "ExecuteTime": {
     "end_time": "2021-09-10T08:33:18.328245Z",
     "start_time": "2021-09-10T08:33:18.325115Z"
    }
   },
   "outputs": [
    {
     "data": {
      "text/plain": [
       "6"
      ]
     },
     "execution_count": 28,
     "metadata": {},
     "output_type": "execute_result"
    }
   ],
   "source": [
    "x//=3 # x = x // 3\n",
    "x"
   ]
  },
  {
   "cell_type": "code",
   "execution_count": 29,
   "id": "1c2f8a30",
   "metadata": {
    "ExecuteTime": {
     "end_time": "2021-09-10T08:33:21.861798Z",
     "start_time": "2021-09-10T08:33:21.853040Z"
    }
   },
   "outputs": [
    {
     "data": {
      "text/plain": [
       "36"
      ]
     },
     "execution_count": 29,
     "metadata": {},
     "output_type": "execute_result"
    }
   ],
   "source": [
    "x**=2 # x = x ** 2\n",
    "x"
   ]
  },
  {
   "cell_type": "markdown",
   "id": "16f22b59",
   "metadata": {},
   "source": [
    "#### Integer Range"
   ]
  },
  {
   "cell_type": "markdown",
   "id": "d61073d9",
   "metadata": {
    "ExecuteTime": {
     "end_time": "2021-08-30T09:41:18.221595Z",
     "start_time": "2021-08-30T09:41:18.211349Z"
    }
   },
   "source": [
    "Integers in python can carry a sign"
   ]
  },
  {
   "cell_type": "code",
   "execution_count": 30,
   "id": "1453d4e6",
   "metadata": {
    "ExecuteTime": {
     "end_time": "2021-09-10T08:34:35.756009Z",
     "start_time": "2021-09-10T08:34:35.750694Z"
    }
   },
   "outputs": [
    {
     "data": {
      "text/plain": [
       "-100"
      ]
     },
     "execution_count": 30,
     "metadata": {},
     "output_type": "execute_result"
    }
   ],
   "source": [
    "-100"
   ]
  },
  {
   "cell_type": "markdown",
   "id": "dbd14a76",
   "metadata": {
    "ExecuteTime": {
     "end_time": "2021-08-30T09:42:06.301168Z",
     "start_time": "2021-08-30T09:42:06.292471Z"
    }
   },
   "source": [
    "And can by arbitrarily large (or small)"
   ]
  },
  {
   "cell_type": "code",
   "execution_count": 31,
   "id": "e9a39d94",
   "metadata": {
    "ExecuteTime": {
     "end_time": "2021-09-10T08:34:40.480703Z",
     "start_time": "2021-09-10T08:34:40.477611Z"
    }
   },
   "outputs": [
    {
     "data": {
      "text/plain": [
       "32344765096247579913446477691002168108572031989046254009338953313916914596369280600010"
      ]
     },
     "execution_count": 31,
     "metadata": {},
     "output_type": "execute_result"
    }
   ],
   "source": [
    "((7**10)**10)*10"
   ]
  },
  {
   "cell_type": "markdown",
   "id": "8670b963",
   "metadata": {
    "ExecuteTime": {
     "end_time": "2021-08-30T09:44:23.487188Z",
     "start_time": "2021-08-30T09:44:23.475484Z"
    }
   },
   "source": [
    "We are only limited my how many digits will fit into memory"
   ]
  },
  {
   "cell_type": "markdown",
   "id": "edcf45cd",
   "metadata": {
    "ExecuteTime": {
     "end_time": "2021-08-30T09:20:19.160115Z",
     "start_time": "2021-08-30T09:20:19.154684Z"
    }
   },
   "source": [
    "### Booleans"
   ]
  },
  {
   "cell_type": "markdown",
   "id": "1abd8973",
   "metadata": {},
   "source": [
    "The **Boolean** type only  has two values"
   ]
  },
  {
   "cell_type": "code",
   "execution_count": 33,
   "id": "254ce7f4",
   "metadata": {
    "ExecuteTime": {
     "end_time": "2021-09-10T08:36:14.965112Z",
     "start_time": "2021-09-10T08:36:14.961982Z"
    }
   },
   "outputs": [
    {
     "data": {
      "text/plain": [
       "True"
      ]
     },
     "execution_count": 33,
     "metadata": {},
     "output_type": "execute_result"
    }
   ],
   "source": [
    "True"
   ]
  },
  {
   "cell_type": "code",
   "execution_count": 34,
   "id": "072b322b",
   "metadata": {
    "ExecuteTime": {
     "end_time": "2021-09-10T08:36:15.741960Z",
     "start_time": "2021-09-10T08:36:15.730102Z"
    }
   },
   "outputs": [
    {
     "data": {
      "text/plain": [
       "False"
      ]
     },
     "execution_count": 34,
     "metadata": {},
     "output_type": "execute_result"
    }
   ],
   "source": [
    "False"
   ]
  },
  {
   "cell_type": "code",
   "execution_count": 35,
   "id": "bcaa5fff",
   "metadata": {
    "ExecuteTime": {
     "end_time": "2021-09-10T08:36:29.790843Z",
     "start_time": "2021-09-10T08:36:29.781196Z"
    }
   },
   "outputs": [
    {
     "data": {
      "text/plain": [
       "bool"
      ]
     },
     "execution_count": 35,
     "metadata": {},
     "output_type": "execute_result"
    }
   ],
   "source": [
    "type(True)"
   ]
  },
  {
   "cell_type": "markdown",
   "id": "27d55545",
   "metadata": {},
   "source": [
    "We can have boolean variables"
   ]
  },
  {
   "cell_type": "code",
   "execution_count": 36,
   "id": "1aa4da51",
   "metadata": {
    "ExecuteTime": {
     "end_time": "2021-09-10T08:36:45.688420Z",
     "start_time": "2021-09-10T08:36:45.683082Z"
    }
   },
   "outputs": [
    {
     "data": {
      "text/plain": [
       "(True, False)"
      ]
     },
     "execution_count": 36,
     "metadata": {},
     "output_type": "execute_result"
    }
   ],
   "source": [
    "p=True\n",
    "q=False\n",
    "p,q"
   ]
  },
  {
   "cell_type": "markdown",
   "id": "937eedf7",
   "metadata": {},
   "source": [
    "#### Boolean Operators\n",
    "\n",
    "Boolean variables support the usual logical operators\n",
    "1. **and**: true if both values are true\n",
    "2. **or**: true is *either* is true\n",
    "3. **not**: logical negation\n"
   ]
  },
  {
   "cell_type": "code",
   "execution_count": 37,
   "id": "e2455cbb",
   "metadata": {
    "ExecuteTime": {
     "end_time": "2021-09-10T08:36:52.636542Z",
     "start_time": "2021-09-10T08:36:52.633691Z"
    }
   },
   "outputs": [
    {
     "data": {
      "text/plain": [
       "False"
      ]
     },
     "execution_count": 37,
     "metadata": {},
     "output_type": "execute_result"
    }
   ],
   "source": [
    "p and q"
   ]
  },
  {
   "cell_type": "code",
   "execution_count": 38,
   "id": "db24e6ec",
   "metadata": {
    "ExecuteTime": {
     "end_time": "2021-09-10T08:37:07.283053Z",
     "start_time": "2021-09-10T08:37:07.280308Z"
    }
   },
   "outputs": [
    {
     "data": {
      "text/plain": [
       "True"
      ]
     },
     "execution_count": 38,
     "metadata": {},
     "output_type": "execute_result"
    }
   ],
   "source": [
    "p or q"
   ]
  },
  {
   "cell_type": "code",
   "execution_count": 39,
   "id": "80c6b267",
   "metadata": {
    "ExecuteTime": {
     "end_time": "2021-09-10T08:37:08.398959Z",
     "start_time": "2021-09-10T08:37:08.395712Z"
    }
   },
   "outputs": [
    {
     "data": {
      "text/plain": [
       "True"
      ]
     },
     "execution_count": 39,
     "metadata": {},
     "output_type": "execute_result"
    }
   ],
   "source": [
    "not(q)"
   ]
  },
  {
   "cell_type": "markdown",
   "id": "dcc7b81f",
   "metadata": {},
   "source": [
    "#### Relational Operators\n",
    "\n",
    "The relational operators compare numbers and return a boolean result \n",
    "1. `==` equal: true if both values are the same\n",
    "2. `!=` not equal, true if both values are different\n",
    "3. `<` less than: true if left hand side is strictly smaller than right hand side\n",
    "4. `<=` less or equal: true if left hand side is equal or smaller than right hand side\n",
    "5. `>` larger than: true if left hand side is strictly larger than right hand side\n",
    "6. `>` larger or equal: true if left hand side is equal or larger than right hand side. "
   ]
  },
  {
   "cell_type": "code",
   "execution_count": 45,
   "id": "1aed35ae",
   "metadata": {
    "ExecuteTime": {
     "end_time": "2021-09-10T08:39:10.868171Z",
     "start_time": "2021-09-10T08:39:10.866208Z"
    }
   },
   "outputs": [],
   "source": [
    "x=2\n",
    "y=4"
   ]
  },
  {
   "cell_type": "code",
   "execution_count": 46,
   "id": "2716ae13",
   "metadata": {
    "ExecuteTime": {
     "end_time": "2021-09-10T08:39:22.965869Z",
     "start_time": "2021-09-10T08:39:22.954476Z"
    }
   },
   "outputs": [
    {
     "data": {
      "text/plain": [
       "(False, True, True, True, False, False)"
      ]
     },
     "execution_count": 46,
     "metadata": {},
     "output_type": "execute_result"
    }
   ],
   "source": [
    "x==y,x!=y,x<y,x<=y,x>y,x>=y"
   ]
  },
  {
   "cell_type": "code",
   "execution_count": 47,
   "id": "bb687e9b",
   "metadata": {
    "ExecuteTime": {
     "end_time": "2021-09-10T08:39:23.598286Z",
     "start_time": "2021-09-10T08:39:23.589920Z"
    }
   },
   "outputs": [
    {
     "data": {
      "text/plain": [
       "(False, True)"
      ]
     },
     "execution_count": 47,
     "metadata": {},
     "output_type": "execute_result"
    }
   ],
   "source": [
    "x<x,x<=x"
   ]
  },
  {
   "cell_type": "markdown",
   "id": "3ac6cd9a",
   "metadata": {},
   "source": [
    "### Floats\n",
    "\n",
    "Floating point numbers (floats) represent *approximately* real numbers.\n",
    "\n",
    "They have limited precision and range (they can not be arbitrarily large of small)"
   ]
  },
  {
   "cell_type": "code",
   "execution_count": 48,
   "id": "c5703380",
   "metadata": {
    "ExecuteTime": {
     "end_time": "2021-09-10T08:39:24.815981Z",
     "start_time": "2021-09-10T08:39:24.806285Z"
    }
   },
   "outputs": [
    {
     "data": {
      "text/plain": [
       "0.2727272727272727"
      ]
     },
     "execution_count": 48,
     "metadata": {},
     "output_type": "execute_result"
    }
   ],
   "source": [
    "3/11"
   ]
  },
  {
   "cell_type": "markdown",
   "id": "80f84bd0",
   "metadata": {},
   "source": [
    "You can use scientific notation (like in calculators)"
   ]
  },
  {
   "cell_type": "code",
   "execution_count": 49,
   "id": "f078aea0",
   "metadata": {
    "ExecuteTime": {
     "end_time": "2021-09-10T08:39:37.245010Z",
     "start_time": "2021-09-10T08:39:37.241928Z"
    }
   },
   "outputs": [
    {
     "data": {
      "text/plain": [
       "210.0"
      ]
     },
     "execution_count": 49,
     "metadata": {},
     "output_type": "execute_result"
    }
   ],
   "source": [
    "2.1e2"
   ]
  },
  {
   "cell_type": "code",
   "execution_count": 50,
   "id": "5bdd1039",
   "metadata": {
    "ExecuteTime": {
     "end_time": "2021-09-10T08:39:43.274795Z",
     "start_time": "2021-09-10T08:39:43.269834Z"
    }
   },
   "outputs": [
    {
     "data": {
      "text/plain": [
       "-0.0034"
      ]
     },
     "execution_count": 50,
     "metadata": {},
     "output_type": "execute_result"
    }
   ],
   "source": [
    "-3.4e-3"
   ]
  },
  {
   "cell_type": "markdown",
   "id": "15399733",
   "metadata": {
    "ExecuteTime": {
     "end_time": "2021-08-30T10:10:09.093804Z",
     "start_time": "2021-08-30T10:10:09.084449Z"
    }
   },
   "source": [
    "Precision is limited to (approximately 15 digits)"
   ]
  },
  {
   "cell_type": "code",
   "execution_count": 51,
   "id": "d446746f",
   "metadata": {
    "ExecuteTime": {
     "end_time": "2021-09-10T08:39:54.681637Z",
     "start_time": "2021-09-10T08:39:54.676686Z"
    }
   },
   "outputs": [
    {
     "data": {
      "text/plain": [
       "1.000000000000001"
      ]
     },
     "execution_count": 51,
     "metadata": {},
     "output_type": "execute_result"
    }
   ],
   "source": [
    "1+1e-15"
   ]
  },
  {
   "cell_type": "code",
   "execution_count": 52,
   "id": "c1669045",
   "metadata": {
    "ExecuteTime": {
     "end_time": "2021-09-10T08:39:58.468256Z",
     "start_time": "2021-09-10T08:39:58.462339Z"
    }
   },
   "outputs": [
    {
     "data": {
      "text/plain": [
       "1.0"
      ]
     },
     "execution_count": 52,
     "metadata": {},
     "output_type": "execute_result"
    }
   ],
   "source": [
    "1+1e-16"
   ]
  },
  {
   "cell_type": "markdown",
   "id": "b52ac12f",
   "metadata": {
    "ExecuteTime": {
     "end_time": "2021-08-30T10:13:00.210670Z",
     "start_time": "2021-08-30T10:13:00.199207Z"
    }
   },
   "source": [
    "The largest number is approx $10^{308}$"
   ]
  },
  {
   "cell_type": "code",
   "execution_count": 53,
   "id": "43bb4edb",
   "metadata": {
    "ExecuteTime": {
     "end_time": "2021-09-10T08:40:34.700725Z",
     "start_time": "2021-09-10T08:40:34.696998Z"
    }
   },
   "outputs": [
    {
     "data": {
      "text/plain": [
       "1e+308"
      ]
     },
     "execution_count": 53,
     "metadata": {},
     "output_type": "execute_result"
    }
   ],
   "source": [
    "1.0e308"
   ]
  },
  {
   "cell_type": "code",
   "execution_count": 54,
   "id": "a3322351",
   "metadata": {
    "ExecuteTime": {
     "end_time": "2021-09-10T08:40:36.263178Z",
     "start_time": "2021-09-10T08:40:36.259979Z"
    }
   },
   "outputs": [
    {
     "data": {
      "text/plain": [
       "inf"
      ]
     },
     "execution_count": 54,
     "metadata": {},
     "output_type": "execute_result"
    }
   ],
   "source": [
    "1.0e309"
   ]
  },
  {
   "cell_type": "markdown",
   "id": "fe3f45dd",
   "metadata": {},
   "source": [
    "#### Arithmetic Operators"
   ]
  },
  {
   "cell_type": "markdown",
   "id": "60cf4efa",
   "metadata": {
    "ExecuteTime": {
     "end_time": "2021-08-30T10:19:02.177395Z",
     "start_time": "2021-08-30T10:19:02.167475Z"
    }
   },
   "source": [
    "Like integers, floating point numbers support arithmetic operations `+,-.*,/,**`, and their mutating counterparts `(+=,-=,*=,/=,**=)`\n",
    "\n"
   ]
  },
  {
   "cell_type": "code",
   "execution_count": 55,
   "id": "11ca3c9c",
   "metadata": {
    "ExecuteTime": {
     "end_time": "2021-09-10T08:41:01.416117Z",
     "start_time": "2021-09-10T08:41:01.412024Z"
    }
   },
   "outputs": [
    {
     "data": {
      "text/plain": [
       "(3.5, 3.3, 0.34, 34.0, 1.1301807132434794)"
      ]
     },
     "execution_count": 55,
     "metadata": {},
     "output_type": "execute_result"
    }
   ],
   "source": [
    "x=3.4\n",
    "y=0.1\n",
    "x+y,x-y,x*y,x/y,x**y"
   ]
  },
  {
   "cell_type": "code",
   "execution_count": 56,
   "id": "c2dac107",
   "metadata": {
    "ExecuteTime": {
     "end_time": "2021-09-10T08:41:10.182775Z",
     "start_time": "2021-09-10T08:41:10.174027Z"
    }
   },
   "outputs": [
    {
     "data": {
      "text/plain": [
       "6.8"
      ]
     },
     "execution_count": 56,
     "metadata": {},
     "output_type": "execute_result"
    }
   ],
   "source": [
    "x*=2\n",
    "x"
   ]
  },
  {
   "cell_type": "markdown",
   "id": "7df88e1b",
   "metadata": {},
   "source": [
    "#### Relational operators\n",
    "\n",
    "Relational operators are also supported"
   ]
  },
  {
   "cell_type": "code",
   "execution_count": 57,
   "id": "94ef0072",
   "metadata": {
    "ExecuteTime": {
     "end_time": "2021-09-10T08:41:18.866517Z",
     "start_time": "2021-09-10T08:41:18.857646Z"
    }
   },
   "outputs": [
    {
     "data": {
      "text/plain": [
       "(False, True, False, False, True, True)"
      ]
     },
     "execution_count": 57,
     "metadata": {},
     "output_type": "execute_result"
    }
   ],
   "source": [
    "x==y,x!=y,x<y,x<=y,x>y,x>=y"
   ]
  },
  {
   "cell_type": "markdown",
   "id": "fbce4d27",
   "metadata": {},
   "source": [
    "#### Precision and Rounding Error\n",
    "\n",
    "Because calculations with floating points are only approximate. \n",
    "\n",
    "We can see rounding error:"
   ]
  },
  {
   "cell_type": "code",
   "execution_count": 58,
   "id": "c479524b",
   "metadata": {
    "ExecuteTime": {
     "end_time": "2021-09-10T08:41:43.179062Z",
     "start_time": "2021-09-10T08:41:43.173796Z"
    }
   },
   "outputs": [],
   "source": [
    "x=1.0\n",
    "y=1e-15"
   ]
  },
  {
   "cell_type": "code",
   "execution_count": 59,
   "id": "34921c5d",
   "metadata": {
    "ExecuteTime": {
     "end_time": "2021-09-10T08:41:44.108803Z",
     "start_time": "2021-09-10T08:41:44.099552Z"
    }
   },
   "outputs": [
    {
     "data": {
      "text/plain": [
       "1.000000000000001"
      ]
     },
     "execution_count": 59,
     "metadata": {},
     "output_type": "execute_result"
    }
   ],
   "source": [
    "x+y"
   ]
  },
  {
   "cell_type": "code",
   "execution_count": 60,
   "id": "071e5cb0",
   "metadata": {
    "ExecuteTime": {
     "end_time": "2021-09-10T08:41:51.021695Z",
     "start_time": "2021-09-10T08:41:51.018252Z"
    }
   },
   "outputs": [
    {
     "data": {
      "text/plain": [
       "1.0"
      ]
     },
     "execution_count": 60,
     "metadata": {},
     "output_type": "execute_result"
    }
   ],
   "source": [
    "x+y/10"
   ]
  },
  {
   "cell_type": "code",
   "execution_count": 61,
   "id": "3225f3f0",
   "metadata": {
    "ExecuteTime": {
     "end_time": "2021-09-10T08:42:00.162756Z",
     "start_time": "2021-09-10T08:42:00.153683Z"
    }
   },
   "outputs": [
    {
     "data": {
      "text/plain": [
       "0.0"
      ]
     },
     "execution_count": 61,
     "metadata": {},
     "output_type": "execute_result"
    }
   ],
   "source": [
    "10*(x+y/10)-10*x"
   ]
  },
  {
   "cell_type": "markdown",
   "id": "1f14a957",
   "metadata": {
    "ExecuteTime": {
     "end_time": "2021-08-30T10:24:28.093181Z",
     "start_time": "2021-08-30T10:24:28.083853Z"
    }
   },
   "source": [
    "Mathematically\n",
    "\n",
    "$$\n",
    "    y = 2(x+y/2)-2x \n",
    "$$\n",
    "\n",
    "Due to rounding error, this may not be the case"
   ]
  },
  {
   "cell_type": "code",
   "execution_count": 64,
   "id": "69796a34",
   "metadata": {
    "ExecuteTime": {
     "end_time": "2021-09-10T08:43:11.433242Z",
     "start_time": "2021-09-10T08:43:11.422400Z"
    }
   },
   "outputs": [
    {
     "data": {
      "text/plain": [
       "False"
      ]
     },
     "execution_count": 64,
     "metadata": {},
     "output_type": "execute_result"
    }
   ],
   "source": [
    "2*(x+y/2)-2*x == y"
   ]
  },
  {
   "cell_type": "code",
   "execution_count": 65,
   "id": "1e1ee55d",
   "metadata": {
    "ExecuteTime": {
     "end_time": "2021-09-10T08:43:12.269699Z",
     "start_time": "2021-09-10T08:43:12.261334Z"
    }
   },
   "outputs": [
    {
     "data": {
      "text/plain": [
       "(8.881784197001252e-16, 1e-15)"
      ]
     },
     "execution_count": 65,
     "metadata": {},
     "output_type": "execute_result"
    }
   ],
   "source": [
    "2*(x+y/2)-2*x,y"
   ]
  },
  {
   "cell_type": "markdown",
   "id": "1db7f007",
   "metadata": {
    "ExecuteTime": {
     "end_time": "2021-08-30T10:27:30.426591Z",
     "start_time": "2021-08-30T10:27:30.411649Z"
    }
   },
   "source": [
    "Comparing floating point numbers for equality is usually a mistake."
   ]
  },
  {
   "cell_type": "markdown",
   "id": "3ccaf421",
   "metadata": {},
   "source": [
    "### Integer/Floating Point conversions\n",
    "\n",
    "You can convert a float to and integer using:"
   ]
  },
  {
   "cell_type": "code",
   "execution_count": 66,
   "id": "1030a9bd",
   "metadata": {
    "ExecuteTime": {
     "end_time": "2021-09-10T08:44:19.867053Z",
     "start_time": "2021-09-10T08:44:19.863215Z"
    }
   },
   "outputs": [],
   "source": [
    "x=3.9\n",
    "y=-3"
   ]
  },
  {
   "cell_type": "code",
   "execution_count": 67,
   "id": "c2e9b782",
   "metadata": {
    "ExecuteTime": {
     "end_time": "2021-09-10T08:44:23.787150Z",
     "start_time": "2021-09-10T08:44:23.783505Z"
    }
   },
   "outputs": [
    {
     "data": {
      "text/plain": [
       "3"
      ]
     },
     "execution_count": 67,
     "metadata": {},
     "output_type": "execute_result"
    }
   ],
   "source": [
    "int(x)"
   ]
  },
  {
   "cell_type": "code",
   "execution_count": 68,
   "id": "b72e4de5",
   "metadata": {
    "ExecuteTime": {
     "end_time": "2021-09-10T08:44:32.876442Z",
     "start_time": "2021-09-10T08:44:32.871079Z"
    }
   },
   "outputs": [
    {
     "data": {
      "text/plain": [
       "-3.0"
      ]
     },
     "execution_count": 68,
     "metadata": {},
     "output_type": "execute_result"
    }
   ],
   "source": [
    "float(y)"
   ]
  },
  {
   "cell_type": "markdown",
   "id": "1eee396c",
   "metadata": {},
   "source": [
    "In arithmetic expressions integers are promoted to floats if needed"
   ]
  },
  {
   "cell_type": "code",
   "execution_count": 69,
   "id": "dfad6c99",
   "metadata": {
    "ExecuteTime": {
     "end_time": "2021-09-10T08:44:45.623718Z",
     "start_time": "2021-09-10T08:44:45.620367Z"
    }
   },
   "outputs": [
    {
     "data": {
      "text/plain": [
       "0.8999999999999999"
      ]
     },
     "execution_count": 69,
     "metadata": {},
     "output_type": "execute_result"
    }
   ],
   "source": [
    "x+y"
   ]
  },
  {
   "cell_type": "markdown",
   "id": "f805891d",
   "metadata": {},
   "source": [
    "### Strings\n",
    "\n",
    "String is a type that allows us to store text (collections of characters)"
   ]
  },
  {
   "cell_type": "code",
   "execution_count": 74,
   "id": "b2494c1c",
   "metadata": {
    "ExecuteTime": {
     "end_time": "2021-09-10T08:46:27.869982Z",
     "start_time": "2021-09-10T08:46:27.864197Z"
    }
   },
   "outputs": [],
   "source": [
    "x=\"Manuel\"\n",
    "y='Data Science'\n",
    "z=\"100\""
   ]
  },
  {
   "cell_type": "markdown",
   "id": "e56a5bd8",
   "metadata": {},
   "source": [
    "#### Relational Operators\n",
    "\n",
    "Strings are ordered (lexicographical order, like in a dictionary) and support all the comparison operators"
   ]
  },
  {
   "cell_type": "code",
   "execution_count": 71,
   "id": "1c9b1f25",
   "metadata": {
    "ExecuteTime": {
     "end_time": "2021-09-10T08:45:10.747341Z",
     "start_time": "2021-09-10T08:45:10.742805Z"
    }
   },
   "outputs": [
    {
     "data": {
      "text/plain": [
       "(False, True, False, False, True, True)"
      ]
     },
     "execution_count": 71,
     "metadata": {},
     "output_type": "execute_result"
    }
   ],
   "source": [
    "x==y,x!=y,x<y,x<=y,x>y,x>=y"
   ]
  },
  {
   "cell_type": "markdown",
   "id": "f98ae764",
   "metadata": {
    "ExecuteTime": {
     "end_time": "2021-08-30T10:42:55.978357Z",
     "start_time": "2021-08-30T10:42:55.967073Z"
    }
   },
   "source": [
    "A string representation of some digits is **different** from the number they represent"
   ]
  },
  {
   "cell_type": "code",
   "execution_count": 72,
   "id": "274011fe",
   "metadata": {
    "ExecuteTime": {
     "end_time": "2021-09-10T08:45:34.877648Z",
     "start_time": "2021-09-10T08:45:34.869737Z"
    }
   },
   "outputs": [
    {
     "data": {
      "text/plain": [
       "False"
      ]
     },
     "execution_count": 72,
     "metadata": {},
     "output_type": "execute_result"
    }
   ],
   "source": [
    "z==100"
   ]
  },
  {
   "cell_type": "code",
   "execution_count": 73,
   "id": "f3a6b082",
   "metadata": {
    "ExecuteTime": {
     "end_time": "2021-09-10T08:46:05.665579Z",
     "start_time": "2021-09-10T08:46:05.657358Z"
    }
   },
   "outputs": [
    {
     "data": {
      "text/plain": [
       "'100'"
      ]
     },
     "execution_count": 73,
     "metadata": {},
     "output_type": "execute_result"
    }
   ],
   "source": [
    "z"
   ]
  },
  {
   "cell_type": "markdown",
   "id": "83a9b8d6",
   "metadata": {
    "ExecuteTime": {
     "end_time": "2021-08-30T10:52:27.808609Z",
     "start_time": "2021-08-30T10:52:27.798383Z"
    }
   },
   "source": [
    "#### String Operations\n",
    "\n",
    "Strings support a rich set of operations, see the [reference manual](https://docs.python.org/3/library/stdtypes.html#string-methods).\n",
    "\n",
    "Here are some of the most useful ones"
   ]
  },
  {
   "cell_type": "code",
   "execution_count": 75,
   "id": "7b984b2d",
   "metadata": {
    "ExecuteTime": {
     "end_time": "2021-09-10T08:47:02.632373Z",
     "start_time": "2021-09-10T08:47:02.623242Z"
    }
   },
   "outputs": [
    {
     "data": {
      "text/plain": [
       "6"
      ]
     },
     "execution_count": 75,
     "metadata": {},
     "output_type": "execute_result"
    }
   ],
   "source": [
    "len(x)"
   ]
  },
  {
   "cell_type": "markdown",
   "id": "1e1da254",
   "metadata": {},
   "source": [
    "You can check if a sub string is contained in a larger one"
   ]
  },
  {
   "cell_type": "code",
   "execution_count": 76,
   "id": "b3c2b1d4",
   "metadata": {
    "ExecuteTime": {
     "end_time": "2021-09-10T08:47:08.084883Z",
     "start_time": "2021-09-10T08:47:08.072414Z"
    }
   },
   "outputs": [
    {
     "data": {
      "text/plain": [
       "True"
      ]
     },
     "execution_count": 76,
     "metadata": {},
     "output_type": "execute_result"
    }
   ],
   "source": [
    "\"nu\" in \"Manuel\""
   ]
  },
  {
   "cell_type": "markdown",
   "id": "ed950c5a",
   "metadata": {
    "ExecuteTime": {
     "end_time": "2021-08-30T19:39:18.080945Z",
     "start_time": "2021-08-30T19:39:18.076597Z"
    }
   },
   "source": [
    "Matches are case sensitive"
   ]
  },
  {
   "cell_type": "code",
   "execution_count": 77,
   "id": "ef1291ce",
   "metadata": {
    "ExecuteTime": {
     "end_time": "2021-09-10T08:47:18.071837Z",
     "start_time": "2021-09-10T08:47:18.060743Z"
    }
   },
   "outputs": [
    {
     "data": {
      "text/plain": [
       "False"
      ]
     },
     "execution_count": 77,
     "metadata": {},
     "output_type": "execute_result"
    }
   ],
   "source": [
    "\"Nu\" in \"Manuel\""
   ]
  },
  {
   "cell_type": "markdown",
   "id": "ec41f874",
   "metadata": {},
   "source": [
    "You can **format** strings using **interpolation**:"
   ]
  },
  {
   "cell_type": "code",
   "execution_count": 79,
   "id": "8ce554e3",
   "metadata": {
    "ExecuteTime": {
     "end_time": "2021-09-10T08:47:54.770895Z",
     "start_time": "2021-09-10T08:47:54.761989Z"
    }
   },
   "outputs": [
    {
     "data": {
      "text/plain": [
       "'My name is Manuel and I teach Data Science.'"
      ]
     },
     "execution_count": 79,
     "metadata": {},
     "output_type": "execute_result"
    }
   ],
   "source": [
    "f\"My name is {x} and I teach {y}.\""
   ]
  },
  {
   "cell_type": "markdown",
   "id": "92cdb073",
   "metadata": {
    "ExecuteTime": {
     "end_time": "2021-08-30T19:44:16.431249Z",
     "start_time": "2021-08-30T19:44:16.424133Z"
    }
   },
   "source": [
    "## Collections"
   ]
  },
  {
   "cell_type": "markdown",
   "id": "7b73fe73",
   "metadata": {
    "ExecuteTime": {
     "end_time": "2021-08-30T19:49:12.788077Z",
     "start_time": "2021-08-30T19:49:12.778963Z"
    }
   },
   "source": [
    "Collections contain multiple values in a single object.\n",
    "There are three basic collections in python:\n",
    "1. tuple\n",
    "3. list\n",
    "4. dictionary"
   ]
  },
  {
   "cell_type": "markdown",
   "id": "236e3493",
   "metadata": {
    "ExecuteTime": {
     "end_time": "2021-08-30T19:49:30.077901Z",
     "start_time": "2021-08-30T19:49:30.064661Z"
    }
   },
   "source": [
    "### Tuple\n",
    "A tuple contains a set of values (of any type) and it is **inmutable**. Once it is created you can not add or substract new values"
   ]
  },
  {
   "cell_type": "code",
   "execution_count": 80,
   "id": "29bf5950",
   "metadata": {
    "ExecuteTime": {
     "end_time": "2021-09-10T08:49:14.572693Z",
     "start_time": "2021-09-10T08:49:14.560547Z"
    }
   },
   "outputs": [
    {
     "data": {
      "text/plain": [
       "(1, 'hello', 5.0)"
      ]
     },
     "execution_count": 80,
     "metadata": {},
     "output_type": "execute_result"
    }
   ],
   "source": [
    "t=(1,\"hello\",5.0)\n",
    "t"
   ]
  },
  {
   "cell_type": "code",
   "execution_count": 81,
   "id": "29e0ec1d",
   "metadata": {
    "ExecuteTime": {
     "end_time": "2021-09-10T08:49:40.867130Z",
     "start_time": "2021-09-10T08:49:40.857855Z"
    }
   },
   "outputs": [
    {
     "data": {
      "text/plain": [
       "tuple"
      ]
     },
     "execution_count": 81,
     "metadata": {},
     "output_type": "execute_result"
    }
   ],
   "source": [
    "type(t)"
   ]
  },
  {
   "cell_type": "markdown",
   "id": "cd57db91",
   "metadata": {},
   "source": [
    "The total number of elements on the tuple is returned by the `len` function:"
   ]
  },
  {
   "cell_type": "code",
   "execution_count": 82,
   "id": "c76ad7be",
   "metadata": {
    "ExecuteTime": {
     "end_time": "2021-09-10T08:49:55.016248Z",
     "start_time": "2021-09-10T08:49:55.008153Z"
    }
   },
   "outputs": [
    {
     "data": {
      "text/plain": [
       "3"
      ]
     },
     "execution_count": 82,
     "metadata": {},
     "output_type": "execute_result"
    }
   ],
   "source": [
    "len(t)"
   ]
  },
  {
   "cell_type": "markdown",
   "id": "beb86d4f",
   "metadata": {
    "ExecuteTime": {
     "end_time": "2021-08-30T19:51:50.192295Z",
     "start_time": "2021-08-30T19:51:50.185921Z"
    }
   },
   "source": [
    "We can access tuple elements by **index**.\n",
    "\n",
    "Note the indexing starts at zero (the first element is at position zero)."
   ]
  },
  {
   "cell_type": "code",
   "execution_count": 83,
   "id": "bd25568b",
   "metadata": {
    "ExecuteTime": {
     "end_time": "2021-09-10T08:50:02.251934Z",
     "start_time": "2021-09-10T08:50:02.245485Z"
    }
   },
   "outputs": [
    {
     "data": {
      "text/plain": [
       "1"
      ]
     },
     "execution_count": 83,
     "metadata": {},
     "output_type": "execute_result"
    }
   ],
   "source": [
    "t[0]"
   ]
  },
  {
   "cell_type": "code",
   "execution_count": 84,
   "id": "27b6a764",
   "metadata": {
    "ExecuteTime": {
     "end_time": "2021-09-10T08:50:03.069956Z",
     "start_time": "2021-09-10T08:50:03.060173Z"
    }
   },
   "outputs": [
    {
     "data": {
      "text/plain": [
       "5.0"
      ]
     },
     "execution_count": 84,
     "metadata": {},
     "output_type": "execute_result"
    }
   ],
   "source": [
    "t[2]"
   ]
  },
  {
   "cell_type": "markdown",
   "id": "512d5d82",
   "metadata": {
    "ExecuteTime": {
     "end_time": "2021-08-30T19:53:52.484457Z",
     "start_time": "2021-08-30T19:53:52.475932Z"
    }
   },
   "source": [
    "### List\n",
    "\n",
    "A list, like a tuple contains multiple elements of any time. Unlike a tuple, it is **mutable**. You can add or substract elements from a tuple\n",
    "\n",
    "#### Basics"
   ]
  },
  {
   "cell_type": "code",
   "execution_count": 94,
   "id": "2e4a874d",
   "metadata": {
    "ExecuteTime": {
     "end_time": "2021-09-10T08:53:14.707755Z",
     "start_time": "2021-09-10T08:53:14.702614Z"
    }
   },
   "outputs": [
    {
     "data": {
      "text/plain": [
       "[1, 'hello', 5.0, 7.0, 72, 'last']"
      ]
     },
     "execution_count": 94,
     "metadata": {},
     "output_type": "execute_result"
    }
   ],
   "source": [
    "l=[1,\"hello\",5.0,7.0,72,\"last\"]\n",
    "l"
   ]
  },
  {
   "cell_type": "code",
   "execution_count": 95,
   "id": "78ee718e",
   "metadata": {
    "ExecuteTime": {
     "end_time": "2021-09-10T08:53:15.228688Z",
     "start_time": "2021-09-10T08:53:15.223341Z"
    }
   },
   "outputs": [
    {
     "data": {
      "text/plain": [
       "list"
      ]
     },
     "execution_count": 95,
     "metadata": {},
     "output_type": "execute_result"
    }
   ],
   "source": [
    "type(l)"
   ]
  },
  {
   "cell_type": "markdown",
   "id": "a9dbe376",
   "metadata": {},
   "source": [
    "The total number of elements on the tuple is again returned by the `len` function:"
   ]
  },
  {
   "cell_type": "code",
   "execution_count": 96,
   "id": "ecc5d2b2",
   "metadata": {
    "ExecuteTime": {
     "end_time": "2021-09-10T08:53:16.047408Z",
     "start_time": "2021-09-10T08:53:16.037859Z"
    }
   },
   "outputs": [
    {
     "data": {
      "text/plain": [
       "6"
      ]
     },
     "execution_count": 96,
     "metadata": {},
     "output_type": "execute_result"
    }
   ],
   "source": [
    "len(l)"
   ]
  },
  {
   "cell_type": "markdown",
   "id": "e897c5dc",
   "metadata": {
    "ExecuteTime": {
     "end_time": "2021-08-30T19:56:26.183448Z",
     "start_time": "2021-08-30T19:56:26.156420Z"
    }
   },
   "source": [
    "We can also access  list elements by **index**.\n"
   ]
  },
  {
   "cell_type": "code",
   "execution_count": 97,
   "id": "f700f603",
   "metadata": {
    "ExecuteTime": {
     "end_time": "2021-09-10T08:53:17.423090Z",
     "start_time": "2021-09-10T08:53:17.415067Z"
    }
   },
   "outputs": [
    {
     "data": {
      "text/plain": [
       "'hello'"
      ]
     },
     "execution_count": 97,
     "metadata": {},
     "output_type": "execute_result"
    }
   ],
   "source": [
    "l[1]"
   ]
  },
  {
   "cell_type": "markdown",
   "id": "0e8de5c8",
   "metadata": {
    "ExecuteTime": {
     "end_time": "2021-09-10T08:52:50.936509Z",
     "start_time": "2021-09-10T08:52:50.927416Z"
    }
   },
   "source": [
    "Note that indexes start at **zero**:"
   ]
  },
  {
   "cell_type": "code",
   "execution_count": 98,
   "id": "61d68c24",
   "metadata": {
    "ExecuteTime": {
     "end_time": "2021-09-10T08:53:18.849882Z",
     "start_time": "2021-09-10T08:53:18.838776Z"
    }
   },
   "outputs": [
    {
     "data": {
      "text/plain": [
       "1"
      ]
     },
     "execution_count": 98,
     "metadata": {},
     "output_type": "execute_result"
    }
   ],
   "source": [
    "l[0]"
   ]
  },
  {
   "cell_type": "markdown",
   "id": "a27b639c",
   "metadata": {},
   "source": [
    "The last valid index is `len(l)-1`"
   ]
  },
  {
   "cell_type": "code",
   "execution_count": 99,
   "id": "3ae479dc",
   "metadata": {
    "ExecuteTime": {
     "end_time": "2021-09-10T08:54:19.550634Z",
     "start_time": "2021-09-10T08:54:19.547528Z"
    }
   },
   "outputs": [
    {
     "data": {
      "text/plain": [
       "'last'"
      ]
     },
     "execution_count": 99,
     "metadata": {},
     "output_type": "execute_result"
    }
   ],
   "source": [
    "l[len(l)-1]"
   ]
  },
  {
   "cell_type": "markdown",
   "id": "dd1b0f6b",
   "metadata": {},
   "source": [
    "We can also test if an elements is contained in a list"
   ]
  },
  {
   "cell_type": "code",
   "execution_count": 119,
   "id": "a05911ed",
   "metadata": {
    "ExecuteTime": {
     "end_time": "2021-09-10T09:03:49.548243Z",
     "start_time": "2021-09-10T09:03:49.539265Z"
    }
   },
   "outputs": [
    {
     "data": {
      "text/plain": [
       "True"
      ]
     },
     "execution_count": 119,
     "metadata": {},
     "output_type": "execute_result"
    }
   ],
   "source": [
    "72 in l"
   ]
  },
  {
   "cell_type": "markdown",
   "id": "3225f838",
   "metadata": {},
   "source": [
    "#### List Mutation"
   ]
  },
  {
   "cell_type": "markdown",
   "id": "c20cf62c",
   "metadata": {},
   "source": [
    "You can add elements to a list:"
   ]
  },
  {
   "cell_type": "code",
   "execution_count": 100,
   "id": "8e3edae2",
   "metadata": {
    "ExecuteTime": {
     "end_time": "2021-09-10T08:54:31.272167Z",
     "start_time": "2021-09-10T08:54:31.268324Z"
    }
   },
   "outputs": [
    {
     "data": {
      "text/plain": [
       "[1, 'hello', 5.0, 7.0, 72, 'last', 'New Element']"
      ]
     },
     "execution_count": 100,
     "metadata": {},
     "output_type": "execute_result"
    }
   ],
   "source": [
    "l.append(\"New Element\")\n",
    "l"
   ]
  },
  {
   "cell_type": "markdown",
   "id": "08d8d82d",
   "metadata": {},
   "source": [
    "And remove elements by position"
   ]
  },
  {
   "cell_type": "code",
   "execution_count": 101,
   "id": "014bd4b6",
   "metadata": {
    "ExecuteTime": {
     "end_time": "2021-09-10T08:54:32.277268Z",
     "start_time": "2021-09-10T08:54:32.264705Z"
    }
   },
   "outputs": [
    {
     "data": {
      "text/plain": [
       "['hello', 5.0, 7.0, 72, 'last', 'New Element']"
      ]
     },
     "execution_count": 101,
     "metadata": {},
     "output_type": "execute_result"
    }
   ],
   "source": [
    "del l[0]\n",
    "l"
   ]
  },
  {
   "cell_type": "markdown",
   "id": "a7169971",
   "metadata": {},
   "source": [
    "Or by value"
   ]
  },
  {
   "cell_type": "code",
   "execution_count": 102,
   "id": "38d91a20",
   "metadata": {
    "ExecuteTime": {
     "end_time": "2021-09-10T08:54:32.690102Z",
     "start_time": "2021-09-10T08:54:32.685387Z"
    }
   },
   "outputs": [
    {
     "data": {
      "text/plain": [
       "['hello', 7.0, 72, 'last', 'New Element']"
      ]
     },
     "execution_count": 102,
     "metadata": {},
     "output_type": "execute_result"
    }
   ],
   "source": [
    "l.remove(5.0)\n",
    "l"
   ]
  },
  {
   "cell_type": "markdown",
   "id": "5af926a6",
   "metadata": {},
   "source": [
    "#### Fancy indexing"
   ]
  },
  {
   "cell_type": "markdown",
   "id": "bb9ffa8f",
   "metadata": {},
   "source": [
    "If we want only the first three elements we can index into them:"
   ]
  },
  {
   "cell_type": "code",
   "execution_count": 105,
   "id": "8e349686",
   "metadata": {
    "ExecuteTime": {
     "end_time": "2021-09-10T08:57:21.749286Z",
     "start_time": "2021-09-10T08:57:21.745201Z"
    }
   },
   "outputs": [
    {
     "data": {
      "text/plain": [
       "['hello', 7.0, 72]"
      ]
     },
     "execution_count": 105,
     "metadata": {},
     "output_type": "execute_result"
    }
   ],
   "source": [
    "l[:3] # all elements up to, but not including index 3"
   ]
  },
  {
   "cell_type": "markdown",
   "id": "0286cfda",
   "metadata": {},
   "source": [
    "If we and elements at indexes  1,2, and 3 we can do that too"
   ]
  },
  {
   "cell_type": "code",
   "execution_count": 107,
   "id": "be639f52",
   "metadata": {
    "ExecuteTime": {
     "end_time": "2021-09-10T08:58:46.084823Z",
     "start_time": "2021-09-10T08:58:46.078799Z"
    }
   },
   "outputs": [
    {
     "data": {
      "text/plain": [
       "[7.0, 72, 'last']"
      ]
     },
     "execution_count": 107,
     "metadata": {},
     "output_type": "execute_result"
    }
   ],
   "source": [
    "l[1:4] #  from index 1 (inclusive) to index 4 (exclusive) i.e indexes 1,2,3"
   ]
  },
  {
   "cell_type": "markdown",
   "id": "d74b0c26",
   "metadata": {},
   "source": [
    "Or elements from index 2 (third element)  to end"
   ]
  },
  {
   "cell_type": "code",
   "execution_count": 108,
   "id": "ac26698c",
   "metadata": {
    "ExecuteTime": {
     "end_time": "2021-09-10T08:58:48.333672Z",
     "start_time": "2021-09-10T08:58:48.330185Z"
    }
   },
   "outputs": [
    {
     "data": {
      "text/plain": [
       "[72, 'last', 'New Element']"
      ]
     },
     "execution_count": 108,
     "metadata": {},
     "output_type": "execute_result"
    }
   ],
   "source": [
    "l[2:]"
   ]
  },
  {
   "cell_type": "markdown",
   "id": "0e82ab0d",
   "metadata": {},
   "source": [
    "Negative indexes count from the end. To get the last element:"
   ]
  },
  {
   "cell_type": "code",
   "execution_count": 109,
   "id": "1c51cd12",
   "metadata": {
    "ExecuteTime": {
     "end_time": "2021-09-10T08:58:51.388765Z",
     "start_time": "2021-09-10T08:58:51.380970Z"
    }
   },
   "outputs": [
    {
     "data": {
      "text/plain": [
       "'New Element'"
      ]
     },
     "execution_count": 109,
     "metadata": {},
     "output_type": "execute_result"
    }
   ],
   "source": [
    "l[-1]"
   ]
  },
  {
   "cell_type": "markdown",
   "id": "acdcbb0c",
   "metadata": {},
   "source": [
    "### Dictionary\n",
    "A dictionary is a collection in which, instead of accessing elements by index, you access them by key:"
   ]
  },
  {
   "cell_type": "code",
   "execution_count": 110,
   "id": "98c1b03b",
   "metadata": {
    "ExecuteTime": {
     "end_time": "2021-09-10T08:59:57.511946Z",
     "start_time": "2021-09-10T08:59:57.503791Z"
    }
   },
   "outputs": [
    {
     "data": {
      "text/plain": [
       "{'A': 24, 'B': -5, 'C': 101}"
      ]
     },
     "execution_count": 110,
     "metadata": {},
     "output_type": "execute_result"
    }
   ],
   "source": [
    "d={\"A\":24,\"B\":-5,\"C\":101}\n",
    "d"
   ]
  },
  {
   "cell_type": "code",
   "execution_count": 111,
   "id": "d14bc651",
   "metadata": {
    "ExecuteTime": {
     "end_time": "2021-09-10T09:00:00.373039Z",
     "start_time": "2021-09-10T09:00:00.370076Z"
    }
   },
   "outputs": [
    {
     "data": {
      "text/plain": [
       "dict"
      ]
     },
     "execution_count": 111,
     "metadata": {},
     "output_type": "execute_result"
    }
   ],
   "source": [
    "type(d)"
   ]
  },
  {
   "cell_type": "code",
   "execution_count": 112,
   "id": "c561d34e",
   "metadata": {
    "ExecuteTime": {
     "end_time": "2021-09-10T09:00:01.988367Z",
     "start_time": "2021-09-10T09:00:01.983505Z"
    }
   },
   "outputs": [
    {
     "data": {
      "text/plain": [
       "3"
      ]
     },
     "execution_count": 112,
     "metadata": {},
     "output_type": "execute_result"
    }
   ],
   "source": [
    "len(d)"
   ]
  },
  {
   "cell_type": "code",
   "execution_count": 113,
   "id": "6ef40be2",
   "metadata": {
    "ExecuteTime": {
     "end_time": "2021-09-10T09:00:08.961396Z",
     "start_time": "2021-09-10T09:00:08.955306Z"
    }
   },
   "outputs": [
    {
     "data": {
      "text/plain": [
       "24"
      ]
     },
     "execution_count": 113,
     "metadata": {},
     "output_type": "execute_result"
    }
   ],
   "source": [
    "d[\"A\"]"
   ]
  },
  {
   "cell_type": "code",
   "execution_count": 114,
   "id": "51787649",
   "metadata": {
    "ExecuteTime": {
     "end_time": "2021-09-10T09:00:10.670669Z",
     "start_time": "2021-09-10T09:00:10.666342Z"
    }
   },
   "outputs": [
    {
     "data": {
      "text/plain": [
       "101"
      ]
     },
     "execution_count": 114,
     "metadata": {},
     "output_type": "execute_result"
    }
   ],
   "source": [
    "d[\"C\"]"
   ]
  },
  {
   "cell_type": "markdown",
   "id": "8a7407d1",
   "metadata": {},
   "source": [
    "We can get a list of all keys"
   ]
  },
  {
   "cell_type": "code",
   "execution_count": 115,
   "id": "943aae04",
   "metadata": {
    "ExecuteTime": {
     "end_time": "2021-09-10T09:00:35.881641Z",
     "start_time": "2021-09-10T09:00:35.871561Z"
    }
   },
   "outputs": [
    {
     "data": {
      "text/plain": [
       "dict_keys(['A', 'B', 'C'])"
      ]
     },
     "execution_count": 115,
     "metadata": {},
     "output_type": "execute_result"
    }
   ],
   "source": [
    "d.keys()"
   ]
  },
  {
   "cell_type": "markdown",
   "id": "e3c362f1",
   "metadata": {},
   "source": [
    "or values"
   ]
  },
  {
   "cell_type": "code",
   "execution_count": 116,
   "id": "3c819b71",
   "metadata": {
    "ExecuteTime": {
     "end_time": "2021-09-10T09:00:46.750957Z",
     "start_time": "2021-09-10T09:00:46.746372Z"
    }
   },
   "outputs": [
    {
     "data": {
      "text/plain": [
       "dict_values([24, -5, 101])"
      ]
     },
     "execution_count": 116,
     "metadata": {},
     "output_type": "execute_result"
    }
   ],
   "source": [
    "d.values()"
   ]
  },
  {
   "cell_type": "markdown",
   "id": "5060d03f",
   "metadata": {},
   "source": [
    "or a list of tuples with key and value"
   ]
  },
  {
   "cell_type": "code",
   "execution_count": 117,
   "id": "ef8bf54d",
   "metadata": {
    "ExecuteTime": {
     "end_time": "2021-09-10T09:00:51.206260Z",
     "start_time": "2021-09-10T09:00:51.196295Z"
    }
   },
   "outputs": [
    {
     "data": {
      "text/plain": [
       "dict_items([('A', 24), ('B', -5), ('C', 101)])"
      ]
     },
     "execution_count": 117,
     "metadata": {},
     "output_type": "execute_result"
    }
   ],
   "source": [
    "d.items()"
   ]
  },
  {
   "cell_type": "markdown",
   "id": "5ac71d98",
   "metadata": {},
   "source": [
    "You can also check if a key is in the dictionary"
   ]
  },
  {
   "cell_type": "code",
   "execution_count": 118,
   "id": "95ce1f19",
   "metadata": {
    "ExecuteTime": {
     "end_time": "2021-09-10T09:01:35.289481Z",
     "start_time": "2021-09-10T09:01:35.279852Z"
    }
   },
   "outputs": [
    {
     "data": {
      "text/plain": [
       "True"
      ]
     },
     "execution_count": 118,
     "metadata": {},
     "output_type": "execute_result"
    }
   ],
   "source": [
    "\"B\" in d"
   ]
  },
  {
   "cell_type": "markdown",
   "id": "ca2f357d",
   "metadata": {},
   "source": [
    "#### Mutation\n",
    "\n",
    "dictionaries are **mutable**"
   ]
  },
  {
   "cell_type": "code",
   "execution_count": 120,
   "id": "35907981",
   "metadata": {
    "ExecuteTime": {
     "end_time": "2021-09-10T09:04:56.603028Z",
     "start_time": "2021-09-10T09:04:56.594323Z"
    }
   },
   "outputs": [
    {
     "data": {
      "text/plain": [
       "{'A': 24, 'B': -5, 'C': 101}"
      ]
     },
     "execution_count": 120,
     "metadata": {},
     "output_type": "execute_result"
    }
   ],
   "source": [
    "d"
   ]
  },
  {
   "cell_type": "code",
   "execution_count": 122,
   "id": "7cfbd8aa",
   "metadata": {
    "ExecuteTime": {
     "end_time": "2021-09-10T09:05:17.364007Z",
     "start_time": "2021-09-10T09:05:17.358588Z"
    }
   },
   "outputs": [
    {
     "data": {
      "text/plain": [
       "{'A': 24, 'B': -5, 'C': 101, 4: 'hello'}"
      ]
     },
     "execution_count": 122,
     "metadata": {},
     "output_type": "execute_result"
    }
   ],
   "source": [
    "d[4]=\"hello\"\n",
    "d"
   ]
  },
  {
   "cell_type": "markdown",
   "id": "96e59fa3",
   "metadata": {},
   "source": [
    "And we can delete elements"
   ]
  },
  {
   "cell_type": "code",
   "execution_count": 123,
   "id": "df70bee3",
   "metadata": {
    "ExecuteTime": {
     "end_time": "2021-09-10T09:06:01.098911Z",
     "start_time": "2021-09-10T09:06:01.091096Z"
    }
   },
   "outputs": [
    {
     "data": {
      "text/plain": [
       "{'A': 24, 'B': -5, 4: 'hello'}"
      ]
     },
     "execution_count": 123,
     "metadata": {},
     "output_type": "execute_result"
    }
   ],
   "source": [
    "del d[\"C\"]\n",
    "d"
   ]
  },
  {
   "cell_type": "markdown",
   "id": "8469b158",
   "metadata": {},
   "source": [
    "## Control Flow\n",
    "\n",
    "By default, computers execute instructions sequentially, line by line:"
   ]
  },
  {
   "cell_type": "code",
   "execution_count": 124,
   "id": "174741f5",
   "metadata": {
    "ExecuteTime": {
     "end_time": "2021-09-10T09:06:33.981353Z",
     "start_time": "2021-09-10T09:06:33.971676Z"
    }
   },
   "outputs": [
    {
     "name": "stdout",
     "output_type": "stream",
     "text": [
      "x = 2\n",
      "y = 4\n",
      "z = 8\n"
     ]
    }
   ],
   "source": [
    "x=2\n",
    "print(\"x =\",x)\n",
    "y=x+2\n",
    "print(\"y =\",y)\n",
    "z=x*y\n",
    "print(\"z =\",z)"
   ]
  },
  {
   "cell_type": "markdown",
   "id": "aa40ff8b",
   "metadata": {
    "ExecuteTime": {
     "end_time": "2021-08-30T20:09:17.458221Z",
     "start_time": "2021-08-30T20:09:17.452547Z"
    }
   },
   "source": [
    "### If Statement"
   ]
  },
  {
   "cell_type": "markdown",
   "id": "4294e301",
   "metadata": {},
   "source": [
    "We can use an `if` statement to  perform a calculation based on a boolean condition (see boolearns above)"
   ]
  },
  {
   "cell_type": "code",
   "execution_count": 125,
   "id": "1571881a",
   "metadata": {
    "ExecuteTime": {
     "end_time": "2021-09-10T09:07:24.430391Z",
     "start_time": "2021-09-10T09:07:24.422375Z"
    }
   },
   "outputs": [
    {
     "name": "stdout",
     "output_type": "stream",
     "text": [
      "y larger\n"
     ]
    },
    {
     "data": {
      "text/plain": [
       "-1"
      ]
     },
     "execution_count": 125,
     "metadata": {},
     "output_type": "execute_result"
    }
   ],
   "source": [
    "if (x>y):\n",
    "    z=1\n",
    "    print(\"x larger\")\n",
    "else:\n",
    "    z=-1\n",
    "    print(\"y larger\")\n",
    "z"
   ]
  },
  {
   "cell_type": "code",
   "execution_count": 126,
   "id": "023aa577",
   "metadata": {
    "ExecuteTime": {
     "end_time": "2021-09-10T09:07:33.610674Z",
     "start_time": "2021-09-10T09:07:33.602756Z"
    }
   },
   "outputs": [
    {
     "name": "stdout",
     "output_type": "stream",
     "text": [
      "x larger\n"
     ]
    },
    {
     "data": {
      "text/plain": [
       "1"
      ]
     },
     "execution_count": 126,
     "metadata": {},
     "output_type": "execute_result"
    }
   ],
   "source": [
    "x=x+100\n",
    "if (x>y):\n",
    "    z=1\n",
    "    print(\"x larger\")\n",
    "else:\n",
    "    z=-1\n",
    "    print(\"y larger\")\n",
    "z"
   ]
  },
  {
   "cell_type": "markdown",
   "id": "c5318d7a",
   "metadata": {},
   "source": [
    "### For loop\n",
    "We can use a `for loop` to repeat a calculation over the members of a collection:"
   ]
  },
  {
   "cell_type": "code",
   "execution_count": 127,
   "id": "1ed7cf28",
   "metadata": {
    "ExecuteTime": {
     "end_time": "2021-09-10T09:08:29.591702Z",
     "start_time": "2021-09-10T09:08:29.588489Z"
    }
   },
   "outputs": [
    {
     "name": "stdout",
     "output_type": "stream",
     "text": [
      "Got item 1\n",
      "Got item hello\n",
      "Got item 5.0\n"
     ]
    }
   ],
   "source": [
    "for item in t:\n",
    "    print(\"Got item\",item)"
   ]
  },
  {
   "cell_type": "code",
   "execution_count": 128,
   "id": "33e4a78d",
   "metadata": {
    "ExecuteTime": {
     "end_time": "2021-09-10T09:08:39.389377Z",
     "start_time": "2021-09-10T09:08:39.383685Z"
    }
   },
   "outputs": [
    {
     "name": "stdout",
     "output_type": "stream",
     "text": [
      "Got item hello\n",
      "Got item 7.0\n",
      "Got item 72\n",
      "Got item last\n",
      "Got item New Element\n"
     ]
    }
   ],
   "source": [
    "for item in l:\n",
    "    print(\"Got item\",item)"
   ]
  },
  {
   "cell_type": "code",
   "execution_count": 129,
   "id": "fea68407",
   "metadata": {
    "ExecuteTime": {
     "end_time": "2021-09-10T09:08:41.605983Z",
     "start_time": "2021-09-10T09:08:41.599023Z"
    }
   },
   "outputs": [
    {
     "name": "stdout",
     "output_type": "stream",
     "text": [
      "Got key A with value 24\n",
      "Got key B with value -5\n",
      "Got key 4 with value hello\n"
     ]
    }
   ],
   "source": [
    "for key in d:\n",
    "    print(\"Got key\",key,\"with value\",d[key])"
   ]
  },
  {
   "cell_type": "markdown",
   "id": "20766bb8",
   "metadata": {},
   "source": [
    "Strings are also colections of characters, so you can use them in a for loop"
   ]
  },
  {
   "cell_type": "code",
   "execution_count": 130,
   "id": "ca249c76",
   "metadata": {
    "ExecuteTime": {
     "end_time": "2021-09-10T09:09:12.371369Z",
     "start_time": "2021-09-10T09:09:12.368083Z"
    }
   },
   "outputs": [
    {
     "name": "stdout",
     "output_type": "stream",
     "text": [
      "M\n",
      "a\n",
      "n\n",
      "u\n",
      "e\n",
      "l\n"
     ]
    }
   ],
   "source": [
    "for c in name:\n",
    "    print(c)"
   ]
  },
  {
   "cell_type": "markdown",
   "id": "18b592b9",
   "metadata": {},
   "source": [
    "If you want to return something a number of times, the range function works nicely with a for loop"
   ]
  },
  {
   "cell_type": "code",
   "execution_count": 131,
   "id": "199def93",
   "metadata": {
    "ExecuteTime": {
     "end_time": "2021-09-10T09:09:25.338359Z",
     "start_time": "2021-09-10T09:09:25.334938Z"
    }
   },
   "outputs": [
    {
     "name": "stdout",
     "output_type": "stream",
     "text": [
      "0\n",
      "1\n",
      "2\n",
      "3\n",
      "4\n",
      "5\n",
      "6\n",
      "7\n",
      "8\n",
      "9\n"
     ]
    }
   ],
   "source": [
    "N=10\n",
    "for i1 in range(N):\n",
    "    print(i1)"
   ]
  },
  {
   "cell_type": "markdown",
   "id": "c5c5db85",
   "metadata": {
    "ExecuteTime": {
     "end_time": "2021-09-10T09:10:27.422453Z",
     "start_time": "2021-09-10T09:10:27.419556Z"
    }
   },
   "source": [
    "Remember that python is **zero-indexed**: `range(N)` returns the numbers 0 to $N-1$."
   ]
  },
  {
   "cell_type": "markdown",
   "id": "445e4b7c",
   "metadata": {},
   "source": [
    "### While loop\n",
    "\n",
    "A `while` loop repeats a block of code until a condition is false"
   ]
  },
  {
   "cell_type": "code",
   "execution_count": 133,
   "id": "ac9cefac",
   "metadata": {
    "ExecuteTime": {
     "end_time": "2021-09-10T09:11:07.919832Z",
     "start_time": "2021-09-10T09:11:07.915494Z"
    }
   },
   "outputs": [
    {
     "name": "stdout",
     "output_type": "stream",
     "text": [
      "0 1\n",
      "1 2\n",
      "2 4\n",
      "3 8\n",
      "4 16\n",
      "5 32\n",
      "6 64\n"
     ]
    }
   ],
   "source": [
    "f=1\n",
    "c=0\n",
    "while f<100:\n",
    "    print(c,f)\n",
    "    f*=2\n",
    "    c+=1\n",
    "    "
   ]
  },
  {
   "cell_type": "markdown",
   "id": "284760a7",
   "metadata": {
    "ExecuteTime": {
     "end_time": "2021-08-30T20:52:38.458378Z",
     "start_time": "2021-08-30T20:52:38.453840Z"
    }
   },
   "source": [
    "## Function\n",
    "\n",
    "Many times, a particular calculation needs to be repeated may times with different inputs.\n",
    "\n",
    "In those cases is better to define a `function`"
   ]
  },
  {
   "cell_type": "code",
   "execution_count": 134,
   "id": "3037cc2b",
   "metadata": {
    "ExecuteTime": {
     "end_time": "2021-09-10T09:12:22.698154Z",
     "start_time": "2021-09-10T09:12:22.690944Z"
    }
   },
   "outputs": [],
   "source": [
    "def scalar_product(x,y):\n",
    "    \"\"\" Compute the vector product of two three dimensional vectors\"\"\"\n",
    "    return x[0]*y[0]+x[1]*y[1]+x[2]*y[2]\n",
    "    "
   ]
  },
  {
   "cell_type": "code",
   "execution_count": 135,
   "id": "d6ea67e6",
   "metadata": {
    "ExecuteTime": {
     "end_time": "2021-09-10T09:12:45.815298Z",
     "start_time": "2021-09-10T09:12:45.809980Z"
    }
   },
   "outputs": [],
   "source": [
    "a=(1.0,2.0,3.0)\n",
    "b=[-1.0,-1.0,-2.0]"
   ]
  },
  {
   "cell_type": "code",
   "execution_count": 136,
   "id": "531c31eb",
   "metadata": {
    "ExecuteTime": {
     "end_time": "2021-09-10T09:12:46.985044Z",
     "start_time": "2021-09-10T09:12:46.980127Z"
    }
   },
   "outputs": [
    {
     "data": {
      "text/plain": [
       "-9.0"
      ]
     },
     "execution_count": 136,
     "metadata": {},
     "output_type": "execute_result"
    }
   ],
   "source": [
    "scalar_product(a,b)"
   ]
  },
  {
   "cell_type": "code",
   "execution_count": 138,
   "id": "99192cc7",
   "metadata": {
    "ExecuteTime": {
     "end_time": "2021-09-10T09:13:27.623258Z",
     "start_time": "2021-09-10T09:13:27.616435Z"
    }
   },
   "outputs": [
    {
     "data": {
      "text/plain": [
       "(6.0, -4.0)"
      ]
     },
     "execution_count": 138,
     "metadata": {},
     "output_type": "execute_result"
    }
   ],
   "source": [
    "c=[1.0,1.0,1.0]\n",
    "scalar_product(a,c),scalar_product(b,c)"
   ]
  },
  {
   "cell_type": "markdown",
   "id": "da2d8b52",
   "metadata": {
    "ExecuteTime": {
     "end_time": "2021-08-30T20:57:53.616507Z",
     "start_time": "2021-08-30T20:57:53.607271Z"
    }
   },
   "source": [
    "The  string we added to the function will be in the function help message. "
   ]
  },
  {
   "cell_type": "code",
   "execution_count": 139,
   "id": "3f558487",
   "metadata": {
    "ExecuteTime": {
     "end_time": "2021-09-10T09:13:29.425737Z",
     "start_time": "2021-09-10T09:13:29.423053Z"
    }
   },
   "outputs": [
    {
     "name": "stdout",
     "output_type": "stream",
     "text": [
      "Help on function scalar_product in module __main__:\n",
      "\n",
      "scalar_product(x, y)\n",
      "    Compute the vector product of two three dimensional vectors\n",
      "\n"
     ]
    }
   ],
   "source": [
    "help(scalar_product)"
   ]
  },
  {
   "cell_type": "markdown",
   "id": "75643076",
   "metadata": {},
   "source": [
    "Help also works on built-in functions:"
   ]
  },
  {
   "cell_type": "code",
   "execution_count": 141,
   "id": "fe20c31f",
   "metadata": {
    "ExecuteTime": {
     "end_time": "2021-09-10T09:14:01.525774Z",
     "start_time": "2021-09-10T09:14:01.519311Z"
    },
    "scrolled": true
   },
   "outputs": [
    {
     "name": "stdout",
     "output_type": "stream",
     "text": [
      "Help on built-in function len in module builtins:\n",
      "\n",
      "len(obj, /)\n",
      "    Return the number of items in a container.\n",
      "\n"
     ]
    }
   ],
   "source": [
    "help(len)"
   ]
  },
  {
   "cell_type": "markdown",
   "id": "de744fab",
   "metadata": {
    "ExecuteTime": {
     "end_time": "2021-08-31T00:20:27.407509Z",
     "start_time": "2021-08-31T00:20:27.389291Z"
    }
   },
   "source": [
    "## Objects\n",
    "\n",
    "Objects allow  to keep a  group of variables and functions together.\n",
    "\n",
    "Many times, when we alter (**mutate**) the object we need to follow  certain rules to keep all the variables **consistent** with each other.\n",
    "\n",
    "In python you create a new type called a `Class`, variables of that type are called *objects*. and functions that operate on objects are called **methods**.\n",
    "\n",
    "Imagine a  credit card **Costumer**  described by:\n",
    "1. `credit_card_number`\n",
    "1. `name`\n",
    "2. `address`\n",
    "3. `credit_balance`\n",
    "4. `credit_limit`\n",
    "5. `cash_back_amount`\n",
    "6. `cash_back_rate`\n",
    "\n",
    "We can create a python **Class** to \n",
    "- group together the variables that define a costumer\n",
    "- define methods that act on the costumer as a whole.\n",
    "\n",
    "We will use all sorts of objects, but we will not be creating many ourselves."
   ]
  },
  {
   "cell_type": "code",
   "execution_count": 144,
   "id": "aa2791ae",
   "metadata": {
    "ExecuteTime": {
     "end_time": "2021-09-10T09:24:43.979569Z",
     "start_time": "2021-09-10T09:24:43.959181Z"
    }
   },
   "outputs": [],
   "source": [
    "class Costumer:\n",
    "    def __init__(self, credit_car_number, name, address,credit_limit=10_000,cash_back_rate=0.02):\n",
    "        \"\"\"Create a new costumer starting with a zero balance \"\"\"\n",
    "        # here we initialize the variables for the costumer\n",
    "        self.credit_card_number=credit_car_number\n",
    "        self.name=name\n",
    "        self.address=address\n",
    "        self.credit_balance=0.0 # start with no balance\n",
    "        self.cash_back=0.0 # no cash back earned yet\n",
    "        self.credit_limit=credit_limit\n",
    "        self.cash_back_rate=cash_back_rate\n",
    "    def __repr__(self):\n",
    "        \"\"\"friendly string representation of costumer\"\"\"\n",
    "        return f\"Costumer(id={self.credit_card_number}, name='{self.name}', address='{self.address}', balance={self.credit_balance}, cash_back={self.cash_back}, limit={self.credit_limit}, cash_back_rate={self.cash_back_rate})\"\n",
    "    def borrow(self,amount):\n",
    "        \"\"\" Client borrow money. \n",
    "        \n",
    "            Returns true if ammount does not get him/her over credit limit, zero otherwise.\n",
    "            Cashback ammount is updated with rebate for new borrowed funds.\n",
    "            \n",
    "            \"\"\"\n",
    "        new_balance=self.credit_balance+amount\n",
    "        if new_balance<self.credit_limit:\n",
    "            self.credit_balance=new_balance\n",
    "            cash_back=amount*self.cash_back_rate\n",
    "            self.cash_back+=cash_back\n",
    "            return True\n",
    "        else:\n",
    "            return False\n",
    "    def pay(self,amount):\n",
    "        \"\"\" costumer pays part or all of his balance.\n",
    "        \n",
    "            If ammount is larger than balance, we return excess funds.\n",
    "        \"\"\"\n",
    "        used_amount=min(self.credit_balance,amount) # only use the smallest of balance and amount \n",
    "        self.credit_balance-=used_amount\n",
    "        return amount-used_amount # return unused funds\n",
    "            "
   ]
  },
  {
   "cell_type": "code",
   "execution_count": 145,
   "id": "6314ed0c",
   "metadata": {
    "ExecuteTime": {
     "end_time": "2021-09-10T09:24:44.869097Z",
     "start_time": "2021-09-10T09:24:44.862463Z"
    }
   },
   "outputs": [
    {
     "name": "stdout",
     "output_type": "stream",
     "text": [
      "Help on class Costumer in module __main__:\n",
      "\n",
      "class Costumer(builtins.object)\n",
      " |  Costumer(credit_car_number, name, address, credit_limit=10000, cash_back_rate=0.02)\n",
      " |  \n",
      " |  Methods defined here:\n",
      " |  \n",
      " |  __init__(self, credit_car_number, name, address, credit_limit=10000, cash_back_rate=0.02)\n",
      " |      Create a new costumer starting with a zero balance\n",
      " |  \n",
      " |  __repr__(self)\n",
      " |      friendly string representation of costumer\n",
      " |  \n",
      " |  borrow(self, amount)\n",
      " |      Client borrow money. \n",
      " |      \n",
      " |      Returns true if ammount does not get him/her over credit limit, zero otherwise.\n",
      " |      Cashback ammount is updated with rebate for new borrowed funds.\n",
      " |  \n",
      " |  pay(self, amount)\n",
      " |      costumer pays part or all of his balance.\n",
      " |      \n",
      " |      If ammount is larger than balance, we return excess funds.\n",
      " |  \n",
      " |  ----------------------------------------------------------------------\n",
      " |  Data descriptors defined here:\n",
      " |  \n",
      " |  __dict__\n",
      " |      dictionary for instance variables (if defined)\n",
      " |  \n",
      " |  __weakref__\n",
      " |      list of weak references to the object (if defined)\n",
      "\n"
     ]
    }
   ],
   "source": [
    "help(Costumer)"
   ]
  },
  {
   "cell_type": "markdown",
   "id": "b0ceaa6c",
   "metadata": {},
   "source": [
    "We now can define costumers"
   ]
  },
  {
   "cell_type": "code",
   "execution_count": 147,
   "id": "632aa154",
   "metadata": {
    "ExecuteTime": {
     "end_time": "2021-09-10T09:25:33.838450Z",
     "start_time": "2021-09-10T09:25:33.834699Z"
    }
   },
   "outputs": [
    {
     "data": {
      "text/plain": [
       "Costumer(id=20457, name='Mary Smith', address='New York City', balance=0.0, cash_back=0.0, limit=20000, cash_back_rate=0.015)"
      ]
     },
     "execution_count": 147,
     "metadata": {},
     "output_type": "execute_result"
    }
   ],
   "source": [
    "costumer1=Costumer(20457,\"Mary Smith\",\"New York City\",20_000,0.015)\n",
    "costumer1"
   ]
  },
  {
   "cell_type": "code",
   "execution_count": null,
   "id": "57f5aa2b",
   "metadata": {
    "ExecuteTime": {
     "end_time": "2021-08-31T10:13:25.613059Z",
     "start_time": "2021-08-31T10:13:25.600471Z"
    }
   },
   "outputs": [],
   "source": [
    "type(costumer1)"
   ]
  },
  {
   "cell_type": "markdown",
   "id": "a5965a86",
   "metadata": {},
   "source": [
    "We can also list its methods:"
   ]
  },
  {
   "cell_type": "code",
   "execution_count": 148,
   "id": "b3509b4e",
   "metadata": {
    "ExecuteTime": {
     "end_time": "2021-09-10T09:25:52.869839Z",
     "start_time": "2021-09-10T09:25:52.859979Z"
    }
   },
   "outputs": [
    {
     "data": {
      "text/plain": [
       "['__class__',\n",
       " '__delattr__',\n",
       " '__dict__',\n",
       " '__dir__',\n",
       " '__doc__',\n",
       " '__eq__',\n",
       " '__format__',\n",
       " '__ge__',\n",
       " '__getattribute__',\n",
       " '__gt__',\n",
       " '__hash__',\n",
       " '__init__',\n",
       " '__init_subclass__',\n",
       " '__le__',\n",
       " '__lt__',\n",
       " '__module__',\n",
       " '__ne__',\n",
       " '__new__',\n",
       " '__reduce__',\n",
       " '__reduce_ex__',\n",
       " '__repr__',\n",
       " '__setattr__',\n",
       " '__sizeof__',\n",
       " '__str__',\n",
       " '__subclasshook__',\n",
       " '__weakref__',\n",
       " 'address',\n",
       " 'borrow',\n",
       " 'cash_back',\n",
       " 'cash_back_rate',\n",
       " 'credit_balance',\n",
       " 'credit_card_number',\n",
       " 'credit_limit',\n",
       " 'name',\n",
       " 'pay']"
      ]
     },
     "execution_count": 148,
     "metadata": {},
     "output_type": "execute_result"
    }
   ],
   "source": [
    "dir(costumer1)"
   ]
  },
  {
   "cell_type": "code",
   "execution_count": 149,
   "id": "de93976c",
   "metadata": {
    "ExecuteTime": {
     "end_time": "2021-09-10T09:26:16.401823Z",
     "start_time": "2021-09-10T09:26:16.397458Z"
    }
   },
   "outputs": [
    {
     "data": {
      "text/plain": [
       "Costumer(id=51952, name='John Doe', address='Hoboken', balance=0.0, cash_back=0.0, limit=10000, cash_back_rate=0.02)"
      ]
     },
     "execution_count": 149,
     "metadata": {},
     "output_type": "execute_result"
    }
   ],
   "source": [
    "costumer2=Costumer(51952,\"John Doe\",\"Hoboken\") # we have defaults for \n",
    "costumer2"
   ]
  },
  {
   "cell_type": "markdown",
   "id": "3b75779b",
   "metadata": {},
   "source": [
    "We can store them in colections:"
   ]
  },
  {
   "cell_type": "code",
   "execution_count": 150,
   "id": "3ec9d465",
   "metadata": {
    "ExecuteTime": {
     "end_time": "2021-09-10T09:26:19.229172Z",
     "start_time": "2021-09-10T09:26:19.224069Z"
    }
   },
   "outputs": [
    {
     "data": {
      "text/plain": [
       "[Costumer(id=20457, name='Mary Smith', address='New York City', balance=0.0, cash_back=0.0, limit=20000, cash_back_rate=0.015),\n",
       " Costumer(id=51952, name='John Doe', address='Hoboken', balance=0.0, cash_back=0.0, limit=10000, cash_back_rate=0.02)]"
      ]
     },
     "execution_count": 150,
     "metadata": {},
     "output_type": "execute_result"
    }
   ],
   "source": [
    "costumers=[costumer1,costumer2]\n",
    "costumers # a list of costumers"
   ]
  },
  {
   "cell_type": "markdown",
   "id": "bb3486c3",
   "metadata": {
    "ExecuteTime": {
     "end_time": "2021-08-31T10:00:43.492125Z",
     "start_time": "2021-08-31T10:00:43.473355Z"
    }
   },
   "source": [
    "We can now borrow money"
   ]
  },
  {
   "cell_type": "code",
   "execution_count": 151,
   "id": "dc3e4b44",
   "metadata": {
    "ExecuteTime": {
     "end_time": "2021-09-10T09:26:50.309780Z",
     "start_time": "2021-09-10T09:26:50.304897Z"
    }
   },
   "outputs": [
    {
     "data": {
      "text/plain": [
       "True"
      ]
     },
     "execution_count": 151,
     "metadata": {},
     "output_type": "execute_result"
    }
   ],
   "source": [
    "costumer1.borrow(1_000)"
   ]
  },
  {
   "cell_type": "code",
   "execution_count": 152,
   "id": "5b782283",
   "metadata": {
    "ExecuteTime": {
     "end_time": "2021-09-10T09:26:54.378588Z",
     "start_time": "2021-09-10T09:26:54.369360Z"
    }
   },
   "outputs": [
    {
     "data": {
      "text/plain": [
       "Costumer(id=20457, name='Mary Smith', address='New York City', balance=1000.0, cash_back=15.0, limit=20000, cash_back_rate=0.015)"
      ]
     },
     "execution_count": 152,
     "metadata": {},
     "output_type": "execute_result"
    }
   ],
   "source": [
    "costumer1"
   ]
  },
  {
   "cell_type": "markdown",
   "id": "9590dc86",
   "metadata": {},
   "source": [
    "But we do not allow the costumer to go over his limit"
   ]
  },
  {
   "cell_type": "code",
   "execution_count": 153,
   "id": "2fb4dd6b",
   "metadata": {
    "ExecuteTime": {
     "end_time": "2021-09-10T09:27:09.397337Z",
     "start_time": "2021-09-10T09:27:09.391339Z"
    }
   },
   "outputs": [
    {
     "data": {
      "text/plain": [
       "False"
      ]
     },
     "execution_count": 153,
     "metadata": {},
     "output_type": "execute_result"
    }
   ],
   "source": [
    "costumer1.borrow(19_500)"
   ]
  },
  {
   "cell_type": "code",
   "execution_count": 154,
   "id": "ff02f03e",
   "metadata": {
    "ExecuteTime": {
     "end_time": "2021-09-10T09:27:10.848920Z",
     "start_time": "2021-09-10T09:27:10.845699Z"
    }
   },
   "outputs": [
    {
     "data": {
      "text/plain": [
       "Costumer(id=20457, name='Mary Smith', address='New York City', balance=1000.0, cash_back=15.0, limit=20000, cash_back_rate=0.015)"
      ]
     },
     "execution_count": 154,
     "metadata": {},
     "output_type": "execute_result"
    }
   ],
   "source": [
    "costumer1"
   ]
  },
  {
   "cell_type": "markdown",
   "id": "80187e08",
   "metadata": {
    "ExecuteTime": {
     "end_time": "2021-08-31T10:03:19.514431Z",
     "start_time": "2021-08-31T10:03:19.503262Z"
    }
   },
   "source": [
    "And we can pay our balance"
   ]
  },
  {
   "cell_type": "code",
   "execution_count": 155,
   "id": "7c56a513",
   "metadata": {
    "ExecuteTime": {
     "end_time": "2021-09-10T09:27:18.061642Z",
     "start_time": "2021-09-10T09:27:18.056962Z"
    }
   },
   "outputs": [
    {
     "data": {
      "text/plain": [
       "2000.0"
      ]
     },
     "execution_count": 155,
     "metadata": {},
     "output_type": "execute_result"
    }
   ],
   "source": [
    "costumer1.pay(3_000) # too much money"
   ]
  },
  {
   "cell_type": "code",
   "execution_count": null,
   "id": "0f10a368",
   "metadata": {},
   "outputs": [],
   "source": []
  }
 ],
 "metadata": {
  "kernelspec": {
   "display_name": "Python 3",
   "language": "python",
   "name": "python3"
  },
  "language_info": {
   "codemirror_mode": {
    "name": "ipython",
    "version": 3
   },
   "file_extension": ".py",
   "mimetype": "text/x-python",
   "name": "python",
   "nbconvert_exporter": "python",
   "pygments_lexer": "ipython3",
   "version": "3.8.8"
  },
  "toc": {
   "base_numbering": 1,
   "nav_menu": {},
   "number_sections": true,
   "sideBar": true,
   "skip_h1_title": true,
   "title_cell": "Table of Contents",
   "title_sidebar": "Contents",
   "toc_cell": false,
   "toc_position": {},
   "toc_section_display": true,
   "toc_window_display": true
  }
 },
 "nbformat": 4,
 "nbformat_minor": 5
}
