{
 "cells": [
  {
   "cell_type": "markdown",
   "id": "70e42c82",
   "metadata": {},
   "source": [
    "# Homework 1\n",
    "\n",
    "Basic python programing and reading files"
   ]
  },
  {
   "cell_type": "code",
   "execution_count": 17,
   "id": "284de776",
   "metadata": {
    "ExecuteTime": {
     "end_time": "2021-09-09T10:34:34.802127Z",
     "start_time": "2021-09-09T10:34:34.756200Z"
    }
   },
   "outputs": [
    {
     "data": {
      "text/plain": [
       "'/home/jovyan'"
      ]
     },
     "execution_count": 17,
     "metadata": {},
     "output_type": "execute_result"
    }
   ],
   "source": [
    "import os\n",
    "%pwd"
   ]
  },
  {
   "cell_type": "markdown",
   "id": "f114cdc7",
   "metadata": {},
   "source": [
    "<div class=\"alert alert-block alert-info\"> Problem 0.1 </div>\n",
    "\n",
    "Save files\n",
    "- `State2Region.csv` to  `../../raw/reference/State2Region.csv` \n",
    "- `covid_cases.csv` to  `../../data/covid/covid_cases.csv`"
   ]
  },
  {
   "cell_type": "markdown",
   "id": "1459f0e6",
   "metadata": {},
   "source": [
    "<div class=\"alert alert-block alert-info\"> Problem 0.2 </div>\n",
    "\n",
    "Define variables containing the file paths so that you can find them later in the notebook"
   ]
  },
  {
   "cell_type": "code",
   "execution_count": 25,
   "id": "60c122f4",
   "metadata": {
    "ExecuteTime": {
     "end_time": "2021-09-09T08:24:00.015010Z",
     "start_time": "2021-09-09T08:24:00.004373Z"
    },
    "tags": []
   },
   "outputs": [
    {
     "name": "stdout",
     "output_type": "stream",
     "text": [
      "<_io.TextIOWrapper name='State2Region.csv' mode='r' encoding='UTF-8'>\n",
      "<_io.TextIOWrapper name='covid_cases.csv' mode='r' encoding='UTF-8'>\n"
     ]
    }
   ],
   "source": [
    "'''\n",
    "State2Region = \"../../raw/reference/State2Region.csv\"\n",
    "covid_cases = \"../../data/covid/covid_cases.csv\"\n",
    "'''\n",
    "\n",
    "'''\n",
    "save_path = \"../../raw/reference\"\n",
    "file_name = \"State2Region.csv\"\n",
    "filename1 = os.path.join(save_path, file_name)\n",
    "print(filename1)\n",
    "'''\n",
    "\n",
    "fhand1 = open('State2Region.csv')\n",
    "print(fhand1)\n",
    "fhand2 = open('covid_cases.csv')\n",
    "print(fhand2)\n"
   ]
  },
  {
   "cell_type": "markdown",
   "id": "053ad21e",
   "metadata": {},
   "source": [
    "<div class=\"alert alert-block alert-info\"> Problem 1 </div>\n",
    "\n",
    "Import pythons [csv](https://docs.python.org/3/library/csv.html) module"
   ]
  },
  {
   "cell_type": "code",
   "execution_count": 19,
   "id": "3486d0d2",
   "metadata": {
    "ExecuteTime": {
     "end_time": "2021-09-09T08:23:59.994443Z",
     "start_time": "2021-09-09T08:23:59.973615Z"
    }
   },
   "outputs": [],
   "source": [
    "import csv"
   ]
  },
  {
   "cell_type": "markdown",
   "id": "f859cdd2",
   "metadata": {},
   "source": [
    "<div class=\"alert alert-block alert-info\"> Problem 2 </div>\n",
    "\n",
    "Using the information on the `State2Region.csv` file create a python dictionary where the keys are the `State Code`s and the vlaues are US `Region`s\n",
    "\n",
    "[HINT] use `csv` module to read the `State2Region` file contents."
   ]
  },
  {
   "cell_type": "code",
   "execution_count": 42,
   "id": "ea4735d2",
   "metadata": {
    "ExecuteTime": {
     "end_time": "2021-09-09T09:30:00.360668Z",
     "start_time": "2021-09-09T09:30:00.343871Z"
    }
   },
   "outputs": [
    {
     "name": "stdout",
     "output_type": "stream",
     "text": [
      "{'AL': 'South', 'AR': 'South', 'AZ': 'West', 'CA': 'West', 'CO': 'West', 'CT': 'Northeast', 'DC': 'South', 'DE': 'South', 'FL': 'South', 'GA': 'South', 'HI': 'West', 'IA': 'Midwest', 'ID': 'West', 'IL': 'Midwest', 'IN': 'Midwest', 'KS': 'Midwest', 'KY': 'South', 'LA': 'South', 'MA': 'Northeast', 'MD': 'South', 'ME': 'Northeast', 'MI': 'Midwest', 'MN': 'Midwest', 'MO': 'Midwest', 'MS': 'South', 'MT': 'West', 'NC': 'South', 'ND': 'Midwest', 'NE': 'Midwest', 'NH': 'Northeast', 'NJ': 'Northeast', 'NM': 'West', 'NV': 'West', 'NY': 'Northeast', 'OH': 'Midwest', 'OK': 'South', 'OR': 'West', 'PA': 'Northeast', 'RI': 'Northeast', 'SC': 'South', 'SD': 'Midwest', 'TN': 'South', 'TX': 'South', 'UT': 'West', 'VA': 'South', 'VT': 'Northeast', 'WA': 'West', 'WI': 'Midwest', 'WV': 'South', 'WY': 'West'}\n"
     ]
    }
   ],
   "source": [
    "# lines1=fhand1.readlines()\n",
    "# print(lines1)\n",
    "# fields1=lines1[0].split(\",\")\n",
    "# fields1\n",
    "\n",
    "with open('State2Region.csv','r') as csv_file1:\n",
    "    reader1 = csv.DictReader(csv_file1)\n",
    "    \n",
    "    for row in reader1:\n",
    "#         print(row['State'],row['Region'])\n",
    "\n",
    "        Dict1 = {row['State Code']:row['Region'] for row in reader1}\n",
    "    \n",
    "    print(Dict1)\n",
    "        \n"
   ]
  },
  {
   "cell_type": "markdown",
   "id": "43d36767",
   "metadata": {},
   "source": [
    "<div class=\"alert alert-block alert-info\"> Problem 3 </div>\n",
    "\n",
    "Using the information on the `covid_cases.csv` file and the state to region dictionary from Problem 2 compute the total number of covid cases\n",
    "on **2021-09-07** for each US Region.\n",
    "\n",
    "Assign  state codes on the `covid_cases.csv` with no matching region in `Region2State.csv` to the `Unknown` region. \n",
    "\n",
    "[HINTS] \n",
    "- Use a dictionary mapping regions to total cases in the region to accumulate results.\n",
    "- Use dictionary method [get(key,default)](https://docs.python.org/3/library/stdtypes.html#dict.get) to map unkown states to the Unknown region"
   ]
  },
  {
   "cell_type": "code",
   "execution_count": 61,
   "id": "a62d60c2",
   "metadata": {
    "ExecuteTime": {
     "end_time": "2021-09-09T09:33:22.721601Z",
     "start_time": "2021-09-09T09:33:22.708618Z"
    }
   },
   "outputs": [
    {
     "name": "stdout",
     "output_type": "stream",
     "text": [
      "{'TX': '3422', 'AS': '0', 'GA': '2049', 'WV': '0', 'AR': '680', 'MP': '0', 'KS': '92', 'PW': '0', 'AK': '11', 'UT': '809', 'NYC': '2359', 'MA': '893', 'CO': '465', 'PR': '820', 'OK': '3191', 'FL': '8008', 'HI': '497', 'RMI': '0', 'NY': '0', 'SD': '209', 'OH': '732', 'TN': '558', 'NM': '600', 'IA': '228', 'PA': '0', 'ND': '113', 'IL': '2293', 'MS': '1698', 'NH': '119', 'NE': '953', 'MI': '5902', 'CT': '723', 'WI': '199', 'NV': '182', 'MO': '297', 'MD': '2190', 'NC': '2994', 'DE': '142', 'ME': '61', 'AL': '256', 'VI': '1', 'VT': '8', 'GU': '2', 'WA': '364', 'CA': '2937', 'MT': '24', 'ID': '517', 'IN': '366', 'OR': '117', 'FSM': '0', 'NJ': '-10', 'DC': '36', 'KY': '3', 'AZ': '1251', 'RI': '41', 'VA': '1157', 'SC': '874', 'LA': '649', 'WY': '210', 'MN': '371'}\n"
     ]
    }
   ],
   "source": [
    "with open('covid_cases.csv','r') as csv_file2:\n",
    "    reader2 = csv.DictReader(csv_file2)\n",
    "\n",
    "#     for row in reader2:\n",
    "# #         print(row)\n",
    "#         Dict2 = {row['state']:row['cases'] for row in reader2}\n",
    "#     print(Dict2)\n",
    "\n",
    "\n",
    "    for row in reader2:\n",
    "        if row['date'] == '2021-09-07':\n",
    "            Dict2 = {row['state']:row['cases'] for row in reader2}\n",
    "            print(Dict2)\n",
    "        \n",
    "        "
   ]
  },
  {
   "cell_type": "markdown",
   "id": "d083a857",
   "metadata": {},
   "source": [
    "<div class=\"alert alert-block alert-info\"> Problem 4.1 </div>\n",
    "\n",
    "Write a python function that returns the total number of cases per US region between dates `target_date0_str` (inclusive)\n",
    "and `target_date1_str` (exclusive).\n",
    "\n",
    "Both dates should be strings in format `yyyy-mm-dd` where:\n",
    "\n",
    "- `yyyy` is  the year (four digits) (current year is `2021`)\n",
    "- `mm`  in the month with zero padding (January is `01`\n",
    "- `dd` is the day of the month  with zero padding (3rd is 03`)\n",
    "\n",
    "\n",
    "[HINT] \n",
    "- Use python's module [datetime](https://docs.python.org/3/library/datetime.html) to create [date](https://docs.python.org/3/library/datetime.html#datetime.date) objects that know how to do date comparisons.\n",
    "- To convert from strings to [date](https://docs.python.org/3/library/datetime.html#datetime.date) objects the method [fromisoformat](https://docs.python.org/3/library/datetime.html#datetime.date.fromisoformat) is useful.\n",
    "\n",
    "The signature of the function should be:\n",
    "\n"
   ]
  },
  {
   "cell_type": "code",
   "execution_count": 5,
   "id": "d9de2b17",
   "metadata": {
    "ExecuteTime": {
     "end_time": "2021-09-09T09:53:19.807645Z",
     "start_time": "2021-09-09T09:53:19.798197Z"
    }
   },
   "outputs": [],
   "source": [
    "def get_cases(target_date0_str,target_date1_str,cases_filename,state2region_filename):\n",
    "    pass"
   ]
  },
  {
   "cell_type": "markdown",
   "id": "50bcf3f5",
   "metadata": {
    "ExecuteTime": {
     "end_time": "2021-09-09T09:58:51.806779Z",
     "start_time": "2021-09-09T09:58:51.792484Z"
    }
   },
   "source": [
    "<div class=\"alert alert-block alert-info\"> Problem 4.2 </div>\n",
    "\n",
    "Compute the total number of cases per region between the dates of `2021-09-01` (inclusive) and `2021-09-07` (exclusive)"
   ]
  },
  {
   "cell_type": "code",
   "execution_count": null,
   "id": "c6f43387",
   "metadata": {
    "ExecuteTime": {
     "end_time": "2021-09-09T09:59:41.948116Z",
     "start_time": "2021-09-09T09:59:41.936801Z"
    }
   },
   "outputs": [],
   "source": []
  },
  {
   "cell_type": "markdown",
   "id": "28518075",
   "metadata": {
    "ExecuteTime": {
     "end_time": "2021-09-09T10:00:37.148241Z",
     "start_time": "2021-09-09T10:00:37.134432Z"
    }
   },
   "source": [
    "<div class=\"alert alert-block alert-info\"> Problem 4.3 </div>\n",
    "\n",
    "Compute the total number of cases per region in the month of August 2021."
   ]
  },
  {
   "cell_type": "code",
   "execution_count": null,
   "id": "b918411b",
   "metadata": {
    "ExecuteTime": {
     "end_time": "2021-09-09T10:00:44.628189Z",
     "start_time": "2021-09-09T10:00:44.619205Z"
    }
   },
   "outputs": [],
   "source": []
  },
  {
   "cell_type": "markdown",
   "id": "4aa385f8",
   "metadata": {
    "ExecuteTime": {
     "end_time": "2021-09-09T10:08:18.389395Z",
     "start_time": "2021-09-09T10:08:18.372990Z"
    }
   },
   "source": [
    "<div class=\"alert alert-block alert-info\"> Problem 5 </div>\n",
    "\n",
    "Create a python script called `1covid_cases_by_region.py`.\n",
    "\n",
    "It should take as argument from the command line\n",
    "- `target_date0_str` in yyyy-mm-dd format\n",
    "- `target_date1_str` in yyyy-mm-dd format\n",
    "- the path to the covid cases file.\n",
    "- the path to the state to region mapping.\n",
    "\n",
    "and print out the total number of cases per region between target_date0_str (inclusive) and target_date1_str (exclusive)\n",
    "\n",
    "\n",
    "Extra credit if you print a useful error message when the script is called with the wrong number of arguments.\n",
    "\n",
    "[HINT] \n",
    "- to access command line arguments from within a python script use the [sys.argv](https://docs.python.org/3/library/sys.html#sys.argv) variable from python's [sys](https://docs.python.org/3/library/sys.html) module.\n",
    "- You have already done most of the work in this notebook. Just cut an paste the `get_cases` function to the python script."
   ]
  },
  {
   "cell_type": "code",
   "execution_count": null,
   "id": "655e9bfa",
   "metadata": {},
   "outputs": [],
   "source": []
  }
 ],
 "metadata": {
  "kernelspec": {
   "display_name": "Python 3",
   "language": "python",
   "name": "python3"
  },
  "language_info": {
   "codemirror_mode": {
    "name": "ipython",
    "version": 3
   },
   "file_extension": ".py",
   "mimetype": "text/x-python",
   "name": "python",
   "nbconvert_exporter": "python",
   "pygments_lexer": "ipython3",
   "version": "3.7.10"
  },
  "toc": {
   "base_numbering": 1,
   "nav_menu": {},
   "number_sections": true,
   "sideBar": true,
   "skip_h1_title": true,
   "title_cell": "Table of Contents",
   "title_sidebar": "Contents",
   "toc_cell": false,
   "toc_position": {},
   "toc_section_display": true,
   "toc_window_display": false
  }
 },
 "nbformat": 4,
 "nbformat_minor": 5
}
